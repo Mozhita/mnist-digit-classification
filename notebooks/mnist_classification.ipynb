{
 "cells": [
  {
   "cell_type": "code",
   "execution_count": 1,
   "id": "ea4f04da",
   "metadata": {
    "_cell_guid": "b1076dfc-b9ad-4769-8c92-a6c4dae69d19",
    "_uuid": "8f2839f25d086af736a60e9eeb907d3b93b6e0e5",
    "execution": {
     "iopub.execute_input": "2025-04-29T18:28:24.593309Z",
     "iopub.status.busy": "2025-04-29T18:28:24.592995Z",
     "iopub.status.idle": "2025-04-29T18:28:26.697822Z",
     "shell.execute_reply": "2025-04-29T18:28:26.696779Z"
    },
    "papermill": {
     "duration": 2.119024,
     "end_time": "2025-04-29T18:28:26.702733",
     "exception": false,
     "start_time": "2025-04-29T18:28:24.583709",
     "status": "completed"
    },
    "tags": []
   },
   "outputs": [
    {
     "name": "stdout",
     "output_type": "stream",
     "text": [
      "/kaggle/input/digit-recognizer/sample_submission.csv\n",
      "/kaggle/input/digit-recognizer/train.csv\n",
      "/kaggle/input/digit-recognizer/test.csv\n"
     ]
    }
   ],
   "source": [
    "# This Python 3 environment comes with many helpful analytics libraries installed\n",
    "# It is defined by the kaggle/python Docker image: https://github.com/kaggle/docker-python\n",
    "# For example, here's several helpful packages to load\n",
    "\n",
    "import numpy as np # linear algebra\n",
    "import pandas as pd # data processing, CSV file I/O (e.g. pd.read_csv)\n",
    "\n",
    "# Input data files are available in the read-only \"../input/\" directory\n",
    "# For example, running this (by clicking run or pressing Shift+Enter) will list all files under the input directory\n",
    "\n",
    "import os\n",
    "for dirname, _, filenames in os.walk('/kaggle/input'):\n",
    "    for filename in filenames:\n",
    "        print(os.path.join(dirname, filename))\n",
    "\n",
    "# You can write up to 20GB to the current directory (/kaggle/working/) that gets preserved as output when you create a version using \"Save & Run All\" \n",
    "# You can also write temporary files to /kaggle/temp/, but they won't be saved outside of the current session"
   ]
  },
  {
   "cell_type": "markdown",
   "id": "cecd6c43",
   "metadata": {
    "papermill": {
     "duration": 0.009914,
     "end_time": "2025-04-29T18:28:26.724440",
     "exception": false,
     "start_time": "2025-04-29T18:28:26.714526",
     "status": "completed"
    },
    "tags": []
   },
   "source": [
    "# **Step 1: Libraries**"
   ]
  },
  {
   "cell_type": "code",
   "execution_count": 2,
   "id": "239bcca1",
   "metadata": {
    "execution": {
     "iopub.execute_input": "2025-04-29T18:28:26.741742Z",
     "iopub.status.busy": "2025-04-29T18:28:26.741112Z",
     "iopub.status.idle": "2025-04-29T18:28:29.520061Z",
     "shell.execute_reply": "2025-04-29T18:28:29.519208Z"
    },
    "papermill": {
     "duration": 2.788627,
     "end_time": "2025-04-29T18:28:29.521703",
     "exception": false,
     "start_time": "2025-04-29T18:28:26.733076",
     "status": "completed"
    },
    "tags": []
   },
   "outputs": [],
   "source": [
    "# Step 1: Import libraries\n",
    "import numpy as np\n",
    "import pandas as pd\n",
    "import matplotlib.pyplot as plt\n",
    "import seaborn as sns\n",
    "\n",
    "# Machine learning\n",
    "from sklearn.model_selection import train_test_split\n",
    "from sklearn.linear_model import LogisticRegression\n",
    "from sklearn.metrics import accuracy_score\n",
    "from sklearn.neighbors import KNeighborsClassifier\n",
    "from sklearn.ensemble import RandomForestClassifier\n"
   ]
  },
  {
   "cell_type": "markdown",
   "id": "c89a7eb5",
   "metadata": {
    "papermill": {
     "duration": 0.006115,
     "end_time": "2025-04-29T18:28:29.534444",
     "exception": false,
     "start_time": "2025-04-29T18:28:29.528329",
     "status": "completed"
    },
    "tags": []
   },
   "source": [
    "# **Step 2: Data Loading**"
   ]
  },
  {
   "cell_type": "code",
   "execution_count": 3,
   "id": "1903f127",
   "metadata": {
    "execution": {
     "iopub.execute_input": "2025-04-29T18:28:29.549154Z",
     "iopub.status.busy": "2025-04-29T18:28:29.548704Z",
     "iopub.status.idle": "2025-04-29T18:28:35.345754Z",
     "shell.execute_reply": "2025-04-29T18:28:35.344447Z"
    },
    "papermill": {
     "duration": 5.806577,
     "end_time": "2025-04-29T18:28:35.347792",
     "exception": false,
     "start_time": "2025-04-29T18:28:29.541215",
     "status": "completed"
    },
    "tags": []
   },
   "outputs": [],
   "source": [
    "# Step 2: Load the data\n",
    "train = pd.read_csv('/kaggle/input/digit-recognizer/train.csv')\n",
    "test = pd.read_csv('/kaggle/input/digit-recognizer/test.csv')"
   ]
  },
  {
   "cell_type": "markdown",
   "id": "f212ccb4",
   "metadata": {
    "papermill": {
     "duration": 0.006875,
     "end_time": "2025-04-29T18:28:35.361889",
     "exception": false,
     "start_time": "2025-04-29T18:28:35.355014",
     "status": "completed"
    },
    "tags": []
   },
   "source": [
    "# **Step 3: Check the Dataset**"
   ]
  },
  {
   "cell_type": "code",
   "execution_count": 4,
   "id": "dc74fd9c",
   "metadata": {
    "execution": {
     "iopub.execute_input": "2025-04-29T18:28:35.377281Z",
     "iopub.status.busy": "2025-04-29T18:28:35.376268Z",
     "iopub.status.idle": "2025-04-29T18:28:35.407803Z",
     "shell.execute_reply": "2025-04-29T18:28:35.406820Z"
    },
    "papermill": {
     "duration": 0.040985,
     "end_time": "2025-04-29T18:28:35.409218",
     "exception": false,
     "start_time": "2025-04-29T18:28:35.368233",
     "status": "completed"
    },
    "tags": []
   },
   "outputs": [
    {
     "name": "stdout",
     "output_type": "stream",
     "text": [
      "(42000, 785)\n",
      "(28000, 784)\n"
     ]
    },
    {
     "data": {
      "text/html": [
       "<div>\n",
       "<style scoped>\n",
       "    .dataframe tbody tr th:only-of-type {\n",
       "        vertical-align: middle;\n",
       "    }\n",
       "\n",
       "    .dataframe tbody tr th {\n",
       "        vertical-align: top;\n",
       "    }\n",
       "\n",
       "    .dataframe thead th {\n",
       "        text-align: right;\n",
       "    }\n",
       "</style>\n",
       "<table border=\"1\" class=\"dataframe\">\n",
       "  <thead>\n",
       "    <tr style=\"text-align: right;\">\n",
       "      <th></th>\n",
       "      <th>label</th>\n",
       "      <th>pixel0</th>\n",
       "      <th>pixel1</th>\n",
       "      <th>pixel2</th>\n",
       "      <th>pixel3</th>\n",
       "      <th>pixel4</th>\n",
       "      <th>pixel5</th>\n",
       "      <th>pixel6</th>\n",
       "      <th>pixel7</th>\n",
       "      <th>pixel8</th>\n",
       "      <th>...</th>\n",
       "      <th>pixel774</th>\n",
       "      <th>pixel775</th>\n",
       "      <th>pixel776</th>\n",
       "      <th>pixel777</th>\n",
       "      <th>pixel778</th>\n",
       "      <th>pixel779</th>\n",
       "      <th>pixel780</th>\n",
       "      <th>pixel781</th>\n",
       "      <th>pixel782</th>\n",
       "      <th>pixel783</th>\n",
       "    </tr>\n",
       "  </thead>\n",
       "  <tbody>\n",
       "    <tr>\n",
       "      <th>0</th>\n",
       "      <td>1</td>\n",
       "      <td>0</td>\n",
       "      <td>0</td>\n",
       "      <td>0</td>\n",
       "      <td>0</td>\n",
       "      <td>0</td>\n",
       "      <td>0</td>\n",
       "      <td>0</td>\n",
       "      <td>0</td>\n",
       "      <td>0</td>\n",
       "      <td>...</td>\n",
       "      <td>0</td>\n",
       "      <td>0</td>\n",
       "      <td>0</td>\n",
       "      <td>0</td>\n",
       "      <td>0</td>\n",
       "      <td>0</td>\n",
       "      <td>0</td>\n",
       "      <td>0</td>\n",
       "      <td>0</td>\n",
       "      <td>0</td>\n",
       "    </tr>\n",
       "    <tr>\n",
       "      <th>1</th>\n",
       "      <td>0</td>\n",
       "      <td>0</td>\n",
       "      <td>0</td>\n",
       "      <td>0</td>\n",
       "      <td>0</td>\n",
       "      <td>0</td>\n",
       "      <td>0</td>\n",
       "      <td>0</td>\n",
       "      <td>0</td>\n",
       "      <td>0</td>\n",
       "      <td>...</td>\n",
       "      <td>0</td>\n",
       "      <td>0</td>\n",
       "      <td>0</td>\n",
       "      <td>0</td>\n",
       "      <td>0</td>\n",
       "      <td>0</td>\n",
       "      <td>0</td>\n",
       "      <td>0</td>\n",
       "      <td>0</td>\n",
       "      <td>0</td>\n",
       "    </tr>\n",
       "    <tr>\n",
       "      <th>2</th>\n",
       "      <td>1</td>\n",
       "      <td>0</td>\n",
       "      <td>0</td>\n",
       "      <td>0</td>\n",
       "      <td>0</td>\n",
       "      <td>0</td>\n",
       "      <td>0</td>\n",
       "      <td>0</td>\n",
       "      <td>0</td>\n",
       "      <td>0</td>\n",
       "      <td>...</td>\n",
       "      <td>0</td>\n",
       "      <td>0</td>\n",
       "      <td>0</td>\n",
       "      <td>0</td>\n",
       "      <td>0</td>\n",
       "      <td>0</td>\n",
       "      <td>0</td>\n",
       "      <td>0</td>\n",
       "      <td>0</td>\n",
       "      <td>0</td>\n",
       "    </tr>\n",
       "    <tr>\n",
       "      <th>3</th>\n",
       "      <td>4</td>\n",
       "      <td>0</td>\n",
       "      <td>0</td>\n",
       "      <td>0</td>\n",
       "      <td>0</td>\n",
       "      <td>0</td>\n",
       "      <td>0</td>\n",
       "      <td>0</td>\n",
       "      <td>0</td>\n",
       "      <td>0</td>\n",
       "      <td>...</td>\n",
       "      <td>0</td>\n",
       "      <td>0</td>\n",
       "      <td>0</td>\n",
       "      <td>0</td>\n",
       "      <td>0</td>\n",
       "      <td>0</td>\n",
       "      <td>0</td>\n",
       "      <td>0</td>\n",
       "      <td>0</td>\n",
       "      <td>0</td>\n",
       "    </tr>\n",
       "    <tr>\n",
       "      <th>4</th>\n",
       "      <td>0</td>\n",
       "      <td>0</td>\n",
       "      <td>0</td>\n",
       "      <td>0</td>\n",
       "      <td>0</td>\n",
       "      <td>0</td>\n",
       "      <td>0</td>\n",
       "      <td>0</td>\n",
       "      <td>0</td>\n",
       "      <td>0</td>\n",
       "      <td>...</td>\n",
       "      <td>0</td>\n",
       "      <td>0</td>\n",
       "      <td>0</td>\n",
       "      <td>0</td>\n",
       "      <td>0</td>\n",
       "      <td>0</td>\n",
       "      <td>0</td>\n",
       "      <td>0</td>\n",
       "      <td>0</td>\n",
       "      <td>0</td>\n",
       "    </tr>\n",
       "  </tbody>\n",
       "</table>\n",
       "<p>5 rows × 785 columns</p>\n",
       "</div>"
      ],
      "text/plain": [
       "   label  pixel0  pixel1  pixel2  pixel3  pixel4  pixel5  pixel6  pixel7  \\\n",
       "0      1       0       0       0       0       0       0       0       0   \n",
       "1      0       0       0       0       0       0       0       0       0   \n",
       "2      1       0       0       0       0       0       0       0       0   \n",
       "3      4       0       0       0       0       0       0       0       0   \n",
       "4      0       0       0       0       0       0       0       0       0   \n",
       "\n",
       "   pixel8  ...  pixel774  pixel775  pixel776  pixel777  pixel778  pixel779  \\\n",
       "0       0  ...         0         0         0         0         0         0   \n",
       "1       0  ...         0         0         0         0         0         0   \n",
       "2       0  ...         0         0         0         0         0         0   \n",
       "3       0  ...         0         0         0         0         0         0   \n",
       "4       0  ...         0         0         0         0         0         0   \n",
       "\n",
       "   pixel780  pixel781  pixel782  pixel783  \n",
       "0         0         0         0         0  \n",
       "1         0         0         0         0  \n",
       "2         0         0         0         0  \n",
       "3         0         0         0         0  \n",
       "4         0         0         0         0  \n",
       "\n",
       "[5 rows x 785 columns]"
      ]
     },
     "execution_count": 4,
     "metadata": {},
     "output_type": "execute_result"
    }
   ],
   "source": [
    "# Step 3: See the data\n",
    "print(train.shape)\n",
    "print(test.shape)\n",
    "train.head()"
   ]
  },
  {
   "cell_type": "markdown",
   "id": "82c2a729",
   "metadata": {
    "papermill": {
     "duration": 0.006558,
     "end_time": "2025-04-29T18:28:35.422578",
     "exception": false,
     "start_time": "2025-04-29T18:28:35.416020",
     "status": "completed"
    },
    "tags": []
   },
   "source": [
    "# **Visualize a Digit**"
   ]
  },
  {
   "cell_type": "code",
   "execution_count": 5,
   "id": "ef49de03",
   "metadata": {
    "execution": {
     "iopub.execute_input": "2025-04-29T18:28:35.437563Z",
     "iopub.status.busy": "2025-04-29T18:28:35.436811Z",
     "iopub.status.idle": "2025-04-29T18:28:35.718440Z",
     "shell.execute_reply": "2025-04-29T18:28:35.717490Z"
    },
    "papermill": {
     "duration": 0.290901,
     "end_time": "2025-04-29T18:28:35.720014",
     "exception": false,
     "start_time": "2025-04-29T18:28:35.429113",
     "status": "completed"
    },
    "tags": []
   },
   "outputs": [
    {
     "data": {
      "image/png": "[encoded data removed]",
      "text/plain": [
       "<Figure size 640x480 with 1 Axes>"
      ]
     },
     "metadata": {},
     "output_type": "display_data"
    }
   ],
   "source": [
    "# Pick a random digit\n",
    "digit = train.iloc[0, 1:].values\n",
    "digit = digit.reshape(28,28)\n",
    "\n",
    "plt.imshow(digit, cmap='gray')\n",
    "plt.title(f\"Label: {train.iloc[0, 0]}\")\n",
    "plt.show()\n"
   ]
  },
  {
   "cell_type": "markdown",
   "id": "56b4bf02",
   "metadata": {
    "papermill": {
     "duration": 0.006764,
     "end_time": "2025-04-29T18:28:35.734481",
     "exception": false,
     "start_time": "2025-04-29T18:28:35.727717",
     "status": "completed"
    },
    "tags": []
   },
   "source": [
    "# **Step 4: Prepare X and Y**"
   ]
  },
  {
   "cell_type": "code",
   "execution_count": 6,
   "id": "68fc6b71",
   "metadata": {
    "execution": {
     "iopub.execute_input": "2025-04-29T18:28:35.749510Z",
     "iopub.status.busy": "2025-04-29T18:28:35.749150Z",
     "iopub.status.idle": "2025-04-29T18:28:35.870585Z",
     "shell.execute_reply": "2025-04-29T18:28:35.869424Z"
    },
    "papermill": {
     "duration": 0.131076,
     "end_time": "2025-04-29T18:28:35.872338",
     "exception": false,
     "start_time": "2025-04-29T18:28:35.741262",
     "status": "completed"
    },
    "tags": []
   },
   "outputs": [],
   "source": [
    "# Step 4: Prepare X and y\n",
    "X = train.drop('label', axis=1)\n",
    "y = train['label']"
   ]
  },
  {
   "cell_type": "markdown",
   "id": "4c2c8d89",
   "metadata": {
    "papermill": {
     "duration": 0.006644,
     "end_time": "2025-04-29T18:28:35.886158",
     "exception": false,
     "start_time": "2025-04-29T18:28:35.879514",
     "status": "completed"
    },
    "tags": []
   },
   "source": [
    "# **Step 5: Normalize the pixel Values**"
   ]
  },
  {
   "cell_type": "code",
   "execution_count": 7,
   "id": "56c9f66b",
   "metadata": {
    "execution": {
     "iopub.execute_input": "2025-04-29T18:28:35.901315Z",
     "iopub.status.busy": "2025-04-29T18:28:35.901003Z",
     "iopub.status.idle": "2025-04-29T18:28:36.038947Z",
     "shell.execute_reply": "2025-04-29T18:28:36.038001Z"
    },
    "papermill": {
     "duration": 0.147651,
     "end_time": "2025-04-29T18:28:36.040616",
     "exception": false,
     "start_time": "2025-04-29T18:28:35.892965",
     "status": "completed"
    },
    "tags": []
   },
   "outputs": [
    {
     "data": {
      "text/html": [
       "<div>\n",
       "<style scoped>\n",
       "    .dataframe tbody tr th:only-of-type {\n",
       "        vertical-align: middle;\n",
       "    }\n",
       "\n",
       "    .dataframe tbody tr th {\n",
       "        vertical-align: top;\n",
       "    }\n",
       "\n",
       "    .dataframe thead th {\n",
       "        text-align: right;\n",
       "    }\n",
       "</style>\n",
       "<table border=\"1\" class=\"dataframe\">\n",
       "  <thead>\n",
       "    <tr style=\"text-align: right;\">\n",
       "      <th></th>\n",
       "      <th>pixel0</th>\n",
       "      <th>pixel1</th>\n",
       "      <th>pixel2</th>\n",
       "      <th>pixel3</th>\n",
       "      <th>pixel4</th>\n",
       "      <th>pixel5</th>\n",
       "      <th>pixel6</th>\n",
       "      <th>pixel7</th>\n",
       "      <th>pixel8</th>\n",
       "      <th>pixel9</th>\n",
       "      <th>...</th>\n",
       "      <th>pixel774</th>\n",
       "      <th>pixel775</th>\n",
       "      <th>pixel776</th>\n",
       "      <th>pixel777</th>\n",
       "      <th>pixel778</th>\n",
       "      <th>pixel779</th>\n",
       "      <th>pixel780</th>\n",
       "      <th>pixel781</th>\n",
       "      <th>pixel782</th>\n",
       "      <th>pixel783</th>\n",
       "    </tr>\n",
       "  </thead>\n",
       "  <tbody>\n",
       "    <tr>\n",
       "      <th>0</th>\n",
       "      <td>0.0</td>\n",
       "      <td>0.0</td>\n",
       "      <td>0.0</td>\n",
       "      <td>0.0</td>\n",
       "      <td>0.0</td>\n",
       "      <td>0.0</td>\n",
       "      <td>0.0</td>\n",
       "      <td>0.0</td>\n",
       "      <td>0.0</td>\n",
       "      <td>0.0</td>\n",
       "      <td>...</td>\n",
       "      <td>0.0</td>\n",
       "      <td>0.0</td>\n",
       "      <td>0.0</td>\n",
       "      <td>0.0</td>\n",
       "      <td>0.0</td>\n",
       "      <td>0.0</td>\n",
       "      <td>0.0</td>\n",
       "      <td>0.0</td>\n",
       "      <td>0.0</td>\n",
       "      <td>0.0</td>\n",
       "    </tr>\n",
       "    <tr>\n",
       "      <th>1</th>\n",
       "      <td>0.0</td>\n",
       "      <td>0.0</td>\n",
       "      <td>0.0</td>\n",
       "      <td>0.0</td>\n",
       "      <td>0.0</td>\n",
       "      <td>0.0</td>\n",
       "      <td>0.0</td>\n",
       "      <td>0.0</td>\n",
       "      <td>0.0</td>\n",
       "      <td>0.0</td>\n",
       "      <td>...</td>\n",
       "      <td>0.0</td>\n",
       "      <td>0.0</td>\n",
       "      <td>0.0</td>\n",
       "      <td>0.0</td>\n",
       "      <td>0.0</td>\n",
       "      <td>0.0</td>\n",
       "      <td>0.0</td>\n",
       "      <td>0.0</td>\n",
       "      <td>0.0</td>\n",
       "      <td>0.0</td>\n",
       "    </tr>\n",
       "    <tr>\n",
       "      <th>2</th>\n",
       "      <td>0.0</td>\n",
       "      <td>0.0</td>\n",
       "      <td>0.0</td>\n",
       "      <td>0.0</td>\n",
       "      <td>0.0</td>\n",
       "      <td>0.0</td>\n",
       "      <td>0.0</td>\n",
       "      <td>0.0</td>\n",
       "      <td>0.0</td>\n",
       "      <td>0.0</td>\n",
       "      <td>...</td>\n",
       "      <td>0.0</td>\n",
       "      <td>0.0</td>\n",
       "      <td>0.0</td>\n",
       "      <td>0.0</td>\n",
       "      <td>0.0</td>\n",
       "      <td>0.0</td>\n",
       "      <td>0.0</td>\n",
       "      <td>0.0</td>\n",
       "      <td>0.0</td>\n",
       "      <td>0.0</td>\n",
       "    </tr>\n",
       "    <tr>\n",
       "      <th>3</th>\n",
       "      <td>0.0</td>\n",
       "      <td>0.0</td>\n",
       "      <td>0.0</td>\n",
       "      <td>0.0</td>\n",
       "      <td>0.0</td>\n",
       "      <td>0.0</td>\n",
       "      <td>0.0</td>\n",
       "      <td>0.0</td>\n",
       "      <td>0.0</td>\n",
       "      <td>0.0</td>\n",
       "      <td>...</td>\n",
       "      <td>0.0</td>\n",
       "      <td>0.0</td>\n",
       "      <td>0.0</td>\n",
       "      <td>0.0</td>\n",
       "      <td>0.0</td>\n",
       "      <td>0.0</td>\n",
       "      <td>0.0</td>\n",
       "      <td>0.0</td>\n",
       "      <td>0.0</td>\n",
       "      <td>0.0</td>\n",
       "    </tr>\n",
       "    <tr>\n",
       "      <th>4</th>\n",
       "      <td>0.0</td>\n",
       "      <td>0.0</td>\n",
       "      <td>0.0</td>\n",
       "      <td>0.0</td>\n",
       "      <td>0.0</td>\n",
       "      <td>0.0</td>\n",
       "      <td>0.0</td>\n",
       "      <td>0.0</td>\n",
       "      <td>0.0</td>\n",
       "      <td>0.0</td>\n",
       "      <td>...</td>\n",
       "      <td>0.0</td>\n",
       "      <td>0.0</td>\n",
       "      <td>0.0</td>\n",
       "      <td>0.0</td>\n",
       "      <td>0.0</td>\n",
       "      <td>0.0</td>\n",
       "      <td>0.0</td>\n",
       "      <td>0.0</td>\n",
       "      <td>0.0</td>\n",
       "      <td>0.0</td>\n",
       "    </tr>\n",
       "  </tbody>\n",
       "</table>\n",
       "<p>5 rows × 784 columns</p>\n",
       "</div>"
      ],
      "text/plain": [
       "   pixel0  pixel1  pixel2  pixel3  pixel4  pixel5  pixel6  pixel7  pixel8  \\\n",
       "0     0.0     0.0     0.0     0.0     0.0     0.0     0.0     0.0     0.0   \n",
       "1     0.0     0.0     0.0     0.0     0.0     0.0     0.0     0.0     0.0   \n",
       "2     0.0     0.0     0.0     0.0     0.0     0.0     0.0     0.0     0.0   \n",
       "3     0.0     0.0     0.0     0.0     0.0     0.0     0.0     0.0     0.0   \n",
       "4     0.0     0.0     0.0     0.0     0.0     0.0     0.0     0.0     0.0   \n",
       "\n",
       "   pixel9  ...  pixel774  pixel775  pixel776  pixel777  pixel778  pixel779  \\\n",
       "0     0.0  ...       0.0       0.0       0.0       0.0       0.0       0.0   \n",
       "1     0.0  ...       0.0       0.0       0.0       0.0       0.0       0.0   \n",
       "2     0.0  ...       0.0       0.0       0.0       0.0       0.0       0.0   \n",
       "3     0.0  ...       0.0       0.0       0.0       0.0       0.0       0.0   \n",
       "4     0.0  ...       0.0       0.0       0.0       0.0       0.0       0.0   \n",
       "\n",
       "   pixel780  pixel781  pixel782  pixel783  \n",
       "0       0.0       0.0       0.0       0.0  \n",
       "1       0.0       0.0       0.0       0.0  \n",
       "2       0.0       0.0       0.0       0.0  \n",
       "3       0.0       0.0       0.0       0.0  \n",
       "4       0.0       0.0       0.0       0.0  \n",
       "\n",
       "[5 rows x 784 columns]"
      ]
     },
     "execution_count": 7,
     "metadata": {},
     "output_type": "execute_result"
    }
   ],
   "source": [
    "# Step 5: Normalize the pixel values\n",
    "X = X / 255.0\n",
    "test = test / 255.0  # Also normalize the test set\n",
    "test.head()"
   ]
  },
  {
   "cell_type": "markdown",
   "id": "7d89f6f4",
   "metadata": {
    "papermill": {
     "duration": 0.006879,
     "end_time": "2025-04-29T18:28:36.055368",
     "exception": false,
     "start_time": "2025-04-29T18:28:36.048489",
     "status": "completed"
    },
    "tags": []
   },
   "source": [
    "# **Step 6: Train/Validation Split**"
   ]
  },
  {
   "cell_type": "code",
   "execution_count": 8,
   "id": "ba06ad9d",
   "metadata": {
    "execution": {
     "iopub.execute_input": "2025-04-29T18:28:36.070956Z",
     "iopub.status.busy": "2025-04-29T18:28:36.070617Z",
     "iopub.status.idle": "2025-04-29T18:28:36.280866Z",
     "shell.execute_reply": "2025-04-29T18:28:36.279741Z"
    },
    "papermill": {
     "duration": 0.22,
     "end_time": "2025-04-29T18:28:36.282557",
     "exception": false,
     "start_time": "2025-04-29T18:28:36.062557",
     "status": "completed"
    },
    "tags": []
   },
   "outputs": [],
   "source": [
    "# Step 6: Split data into training and validation sets\n",
    "X_train, X_val, y_train, y_val = train_test_split(X, y, test_size=0.2, random_state=42)"
   ]
  },
  {
   "cell_type": "markdown",
   "id": "8dce8b06",
   "metadata": {
    "papermill": {
     "duration": 0.006926,
     "end_time": "2025-04-29T18:28:36.296943",
     "exception": false,
     "start_time": "2025-04-29T18:28:36.290017",
     "status": "completed"
    },
    "tags": []
   },
   "source": [
    "# **Model 1: Logistic Regression**"
   ]
  },
  {
   "cell_type": "code",
   "execution_count": 9,
   "id": "99d696a6",
   "metadata": {
    "execution": {
     "iopub.execute_input": "2025-04-29T18:28:36.312560Z",
     "iopub.status.busy": "2025-04-29T18:28:36.312172Z",
     "iopub.status.idle": "2025-04-29T18:30:07.049695Z",
     "shell.execute_reply": "2025-04-29T18:30:07.048486Z"
    },
    "papermill": {
     "duration": 90.754665,
     "end_time": "2025-04-29T18:30:07.058613",
     "exception": false,
     "start_time": "2025-04-29T18:28:36.303948",
     "status": "completed"
    },
    "tags": []
   },
   "outputs": [
    {
     "data": {
      "text/html": [
       "<style>#sk-container-id-1 {color: black;background-color: white;}#sk-container-id-1 pre{padding: 0;}#sk-container-id-1 div.sk-toggleable {background-color: white;}#sk-container-id-1 label.sk-toggleable__label {cursor: pointer;display: block;width: 100%;margin-bottom: 0;padding: 0.3em;box-sizing: border-box;text-align: center;}#sk-container-id-1 label.sk-toggleable__label-arrow:before {content: \"▸\";float: left;margin-right: 0.25em;color: #696969;}#sk-container-id-1 label.sk-toggleable__label-arrow:hover:before {color: black;}#sk-container-id-1 div.sk-estimator:hover label.sk-toggleable__label-arrow:before {color: black;}#sk-container-id-1 div.sk-toggleable__content {max-height: 0;max-width: 0;overflow: hidden;text-align: left;background-color: #f0f8ff;}#sk-container-id-1 div.sk-toggleable__content pre {margin: 0.2em;color: black;border-radius: 0.25em;background-color: #f0f8ff;}#sk-container-id-1 input.sk-toggleable__control:checked~div.sk-toggleable__content {max-height: 200px;max-width: 100%;overflow: auto;}#sk-container-id-1 input.sk-toggleable__control:checked~label.sk-toggleable__label-arrow:before {content: \"▾\";}#sk-container-id-1 div.sk-estimator input.sk-toggleable__control:checked~label.sk-toggleable__label {background-color: #d4ebff;}#sk-container-id-1 div.sk-label input.sk-toggleable__control:checked~label.sk-toggleable__label {background-color: #d4ebff;}#sk-container-id-1 input.sk-hidden--visually {border: 0;clip: rect(1px 1px 1px 1px);clip: rect(1px, 1px, 1px, 1px);height: 1px;margin: -1px;overflow: hidden;padding: 0;position: absolute;width: 1px;}#sk-container-id-1 div.sk-estimator {font-family: monospace;background-color: #f0f8ff;border: 1px dotted black;border-radius: 0.25em;box-sizing: border-box;margin-bottom: 0.5em;}#sk-container-id-1 div.sk-estimator:hover {background-color: #d4ebff;}#sk-container-id-1 div.sk-parallel-item::after {content: \"\";width: 100%;border-bottom: 1px solid gray;flex-grow: 1;}#sk-container-id-1 div.sk-label:hover label.sk-toggleable__label {background-color: #d4ebff;}#sk-container-id-1 div.sk-serial::before {content: \"\";position: absolute;border-left: 1px solid gray;box-sizing: border-box;top: 0;bottom: 0;left: 50%;z-index: 0;}#sk-container-id-1 div.sk-serial {display: flex;flex-direction: column;align-items: center;background-color: white;padding-right: 0.2em;padding-left: 0.2em;position: relative;}#sk-container-id-1 div.sk-item {position: relative;z-index: 1;}#sk-container-id-1 div.sk-parallel {display: flex;align-items: stretch;justify-content: center;background-color: white;position: relative;}#sk-container-id-1 div.sk-item::before, #sk-container-id-1 div.sk-parallel-item::before {content: \"\";position: absolute;border-left: 1px solid gray;box-sizing: border-box;top: 0;bottom: 0;left: 50%;z-index: -1;}#sk-container-id-1 div.sk-parallel-item {display: flex;flex-direction: column;z-index: 1;position: relative;background-color: white;}#sk-container-id-1 div.sk-parallel-item:first-child::after {align-self: flex-end;width: 50%;}#sk-container-id-1 div.sk-parallel-item:last-child::after {align-self: flex-start;width: 50%;}#sk-container-id-1 div.sk-parallel-item:only-child::after {width: 0;}#sk-container-id-1 div.sk-dashed-wrapped {border: 1px dashed gray;margin: 0 0.4em 0.5em 0.4em;box-sizing: border-box;padding-bottom: 0.4em;background-color: white;}#sk-container-id-1 div.sk-label label {font-family: monospace;font-weight: bold;display: inline-block;line-height: 1.2em;}#sk-container-id-1 div.sk-label-container {text-align: center;}#sk-container-id-1 div.sk-container {/* jupyter's `normalize.less` sets `[hidden] { display: none; }` but bootstrap.min.css set `[hidden] { display: none !important; }` so we also need the `!important` here to be able to override the default hidden behavior on the sphinx rendered scikit-learn.org. See: https://github.com/scikit-learn/scikit-learn/issues/21755 */display: inline-block !important;position: relative;}#sk-container-id-1 div.sk-text-repr-fallback {display: none;}</style><div id=\"sk-container-id-1\" class=\"sk-top-container\"><div class=\"sk-text-repr-fallback\"><pre>LogisticRegression(max_iter=1000)</pre><b>In a Jupyter environment, please rerun this cell to show the HTML representation or trust the notebook. <br />On GitHub, the HTML representation is unable to render, please try loading this page with nbviewer.org.</b></div><div class=\"sk-container\" hidden><div class=\"sk-item\"><div class=\"sk-estimator sk-toggleable\"><input class=\"sk-toggleable__control sk-hidden--visually\" id=\"sk-estimator-id-1\" type=\"checkbox\" checked><label for=\"sk-estimator-id-1\" class=\"sk-toggleable__label sk-toggleable__label-arrow\">LogisticRegression</label><div class=\"sk-toggleable__content\"><pre>LogisticRegression(max_iter=1000)</pre></div></div></div></div></div>"
      ],
      "text/plain": [
       "LogisticRegression(max_iter=1000)"
      ]
     },
     "execution_count": 9,
     "metadata": {},
     "output_type": "execute_result"
    }
   ],
   "source": [
    "model_log = LogisticRegression(max_iter=1000)\n",
    "model_log.fit(X_train, y_train)"
   ]
  },
  {
   "cell_type": "markdown",
   "id": "8d22b29b",
   "metadata": {
    "papermill": {
     "duration": 0.007247,
     "end_time": "2025-04-29T18:30:07.073514",
     "exception": false,
     "start_time": "2025-04-29T18:30:07.066267",
     "status": "completed"
    },
    "tags": []
   },
   "source": [
    "# **Check Model Accuracy on Validation Set**"
   ]
  },
  {
   "cell_type": "code",
   "execution_count": 10,
   "id": "04a08483",
   "metadata": {
    "execution": {
     "iopub.execute_input": "2025-04-29T18:30:07.090072Z",
     "iopub.status.busy": "2025-04-29T18:30:07.089780Z",
     "iopub.status.idle": "2025-04-29T18:30:07.125818Z",
     "shell.execute_reply": "2025-04-29T18:30:07.124473Z"
    },
    "papermill": {
     "duration": 0.046687,
     "end_time": "2025-04-29T18:30:07.127813",
     "exception": false,
     "start_time": "2025-04-29T18:30:07.081126",
     "status": "completed"
    },
    "tags": []
   },
   "outputs": [
    {
     "name": "stdout",
     "output_type": "stream",
     "text": [
      "Validation Accuracy: 91.89%\n"
     ]
    }
   ],
   "source": [
    "# Predict on validation set\n",
    "y_pred = model_log.predict(X_val)\n",
    "\n",
    "# Calculate accuracy\n",
    "accuracy_log = accuracy_score(y_val, y_pred)\n",
    "print(f\"Validation Accuracy: {accuracy_log * 100:.2f}%\")\n"
   ]
  },
  {
   "cell_type": "code",
   "execution_count": 11,
   "id": "1b971da8",
   "metadata": {
    "execution": {
     "iopub.execute_input": "2025-04-29T18:30:07.144197Z",
     "iopub.status.busy": "2025-04-29T18:30:07.143875Z",
     "iopub.status.idle": "2025-04-29T18:30:07.218193Z",
     "shell.execute_reply": "2025-04-29T18:30:07.217357Z"
    },
    "papermill": {
     "duration": 0.08433,
     "end_time": "2025-04-29T18:30:07.219919",
     "exception": false,
     "start_time": "2025-04-29T18:30:07.135589",
     "status": "completed"
    },
    "tags": []
   },
   "outputs": [],
   "source": [
    "# Predict on the test data\n",
    "test_predictions = model_log.predict(test)"
   ]
  },
  {
   "cell_type": "markdown",
   "id": "6623a098",
   "metadata": {
    "papermill": {
     "duration": 0.007579,
     "end_time": "2025-04-29T18:30:07.235122",
     "exception": false,
     "start_time": "2025-04-29T18:30:07.227543",
     "status": "completed"
    },
    "tags": []
   },
   "source": [
    "# **Model 2: K-Nearest Neighbors (KNN)**"
   ]
  },
  {
   "cell_type": "code",
   "execution_count": 12,
   "id": "b2cfc4c4",
   "metadata": {
    "execution": {
     "iopub.execute_input": "2025-04-29T18:30:07.322272Z",
     "iopub.status.busy": "2025-04-29T18:30:07.321966Z",
     "iopub.status.idle": "2025-04-29T18:30:15.658366Z",
     "shell.execute_reply": "2025-04-29T18:30:15.657417Z"
    },
    "papermill": {
     "duration": 8.346746,
     "end_time": "2025-04-29T18:30:15.660027",
     "exception": false,
     "start_time": "2025-04-29T18:30:07.313281",
     "status": "completed"
    },
    "tags": []
   },
   "outputs": [
    {
     "name": "stdout",
     "output_type": "stream",
     "text": [
      "KNN Validation Accuracy: 96.67%\n"
     ]
    }
   ],
   "source": [
    "# Build KNN model\n",
    "model_knn = KNeighborsClassifier(n_neighbors=3)  # You can tune k=3,5,7 etc\n",
    "model_knn.fit(X_train, y_train)\n",
    "\n",
    "# Predict and evaluate\n",
    "y_pred_knn = model_knn.predict(X_val)\n",
    "accuracy_knn = accuracy_score(y_val, y_pred_knn)\n",
    "print(f\"KNN Validation Accuracy: {accuracy_knn * 100:.2f}%\")"
   ]
  },
  {
   "cell_type": "markdown",
   "id": "402d7274",
   "metadata": {
    "papermill": {
     "duration": 0.009246,
     "end_time": "2025-04-29T18:30:15.676952",
     "exception": false,
     "start_time": "2025-04-29T18:30:15.667706",
     "status": "completed"
    },
    "tags": []
   },
   "source": [
    "# **Model 3: Random Forest Classifier**"
   ]
  },
  {
   "cell_type": "code",
   "execution_count": 13,
   "id": "8f305ba0",
   "metadata": {
    "execution": {
     "iopub.execute_input": "2025-04-29T18:30:15.694388Z",
     "iopub.status.busy": "2025-04-29T18:30:15.693410Z",
     "iopub.status.idle": "2025-04-29T18:30:40.133807Z",
     "shell.execute_reply": "2025-04-29T18:30:40.132451Z"
    },
    "papermill": {
     "duration": 24.450798,
     "end_time": "2025-04-29T18:30:40.135542",
     "exception": false,
     "start_time": "2025-04-29T18:30:15.684744",
     "status": "completed"
    },
    "tags": []
   },
   "outputs": [
    {
     "name": "stdout",
     "output_type": "stream",
     "text": [
      "Random Forest Validation Accuracy: 96.30%\n"
     ]
    }
   ],
   "source": [
    "# Build Random Forest model\n",
    "model_rf = RandomForestClassifier(n_estimators=100, random_state=42)\n",
    "model_rf.fit(X_train, y_train)\n",
    "\n",
    "# Predict and evaluate\n",
    "y_pred_rf = model_rf.predict(X_val)\n",
    "accuracy_rf = accuracy_score(y_val, y_pred_rf)\n",
    "print(f\"Random Forest Validation Accuracy: {accuracy_rf * 100:.2f}%\")\n"
   ]
  },
  {
   "cell_type": "markdown",
   "id": "e5324889",
   "metadata": {
    "papermill": {
     "duration": 0.0073,
     "end_time": "2025-04-29T18:30:40.150438",
     "exception": false,
     "start_time": "2025-04-29T18:30:40.143138",
     "status": "completed"
    },
    "tags": []
   },
   "source": [
    "# **Model 4: Simple Neural Network (MLPClassifier)**"
   ]
  },
  {
   "cell_type": "code",
   "execution_count": 14,
   "id": "7e3b5fcb",
   "metadata": {
    "execution": {
     "iopub.execute_input": "2025-04-29T18:30:40.167161Z",
     "iopub.status.busy": "2025-04-29T18:30:40.166305Z",
     "iopub.status.idle": "2025-04-29T18:31:04.135766Z",
     "shell.execute_reply": "2025-04-29T18:31:04.134690Z"
    },
    "papermill": {
     "duration": 23.979427,
     "end_time": "2025-04-29T18:31:04.137286",
     "exception": false,
     "start_time": "2025-04-29T18:30:40.157859",
     "status": "completed"
    },
    "tags": []
   },
   "outputs": [
    {
     "name": "stdout",
     "output_type": "stream",
     "text": [
      "Iteration 1, loss = 0.51141712\n",
      "Iteration 2, loss = 0.19430602\n",
      "Iteration 3, loss = 0.14048338\n",
      "Iteration 4, loss = 0.10658105\n",
      "Iteration 5, loss = 0.08460845\n",
      "Iteration 6, loss = 0.06993153\n",
      "Iteration 7, loss = 0.05702697\n",
      "Iteration 8, loss = 0.04824794\n",
      "Iteration 9, loss = 0.03730617\n",
      "Iteration 10, loss = 0.03161820\n",
      "Iteration 11, loss = 0.02610240\n",
      "Iteration 12, loss = 0.02308196\n",
      "Iteration 13, loss = 0.01777307\n",
      "Iteration 14, loss = 0.01444778\n",
      "Iteration 15, loss = 0.01288981\n",
      "Iteration 16, loss = 0.01001324\n",
      "Iteration 17, loss = 0.00761874\n",
      "Iteration 18, loss = 0.00657446\n",
      "Iteration 19, loss = 0.00538564\n",
      "Iteration 20, loss = 0.00757948\n",
      "MLP Neural Network Validation Accuracy: 96.80%\n"
     ]
    },
    {
     "name": "stderr",
     "output_type": "stream",
     "text": [
      "/usr/local/lib/python3.11/dist-packages/sklearn/neural_network/_multilayer_perceptron.py:686: ConvergenceWarning: Stochastic Optimizer: Maximum iterations (20) reached and the optimization hasn't converged yet.\n",
      "  warnings.warn(\n"
     ]
    }
   ],
   "source": [
    "from sklearn.neural_network import MLPClassifier\n",
    "\n",
    "# Build MLP model\n",
    "model_mlp = MLPClassifier(hidden_layer_sizes=(128, 64), max_iter=20, alpha=1e-4,\n",
    "                          solver='adam', verbose=10, random_state=1)\n",
    "\n",
    "model_mlp.fit(X_train, y_train)\n",
    "\n",
    "# Predict and evaluate\n",
    "y_pred_mlp = model_mlp.predict(X_val)\n",
    "accuracy_mlp = accuracy_score(y_val, y_pred_mlp)\n",
    "print(f\"MLP Neural Network Validation Accuracy: {accuracy_mlp * 100:.2f}%\")\n"
   ]
  },
  {
   "cell_type": "markdown",
   "id": "b8ad375d",
   "metadata": {
    "papermill": {
     "duration": 0.008385,
     "end_time": "2025-04-29T18:31:04.154692",
     "exception": false,
     "start_time": "2025-04-29T18:31:04.146307",
     "status": "completed"
    },
    "tags": []
   },
   "source": [
    "# **Model 5: Voting Classifier**"
   ]
  },
  {
   "cell_type": "code",
   "execution_count": 15,
   "id": "757352fe",
   "metadata": {
    "execution": {
     "iopub.execute_input": "2025-04-29T18:31:04.173368Z",
     "iopub.status.busy": "2025-04-29T18:31:04.173031Z",
     "iopub.status.idle": "2025-04-29T18:33:06.207613Z",
     "shell.execute_reply": "2025-04-29T18:33:06.206521Z"
    },
    "papermill": {
     "duration": 122.054601,
     "end_time": "2025-04-29T18:33:06.218091",
     "exception": false,
     "start_time": "2025-04-29T18:31:04.163490",
     "status": "completed"
    },
    "tags": []
   },
   "outputs": [
    {
     "name": "stdout",
     "output_type": "stream",
     "text": [
      "Ensemble Validation Accuracy: 96.61%\n"
     ]
    }
   ],
   "source": [
    "from sklearn.ensemble import VotingClassifier\n",
    "\n",
    "# Create an ensemble\n",
    "ensemble = VotingClassifier(estimators=[\n",
    "    ('lr', model_log),\n",
    "    ('knn', model_knn),\n",
    "    ('rf', model_rf)\n",
    "], voting='hard')\n",
    "\n",
    "# Train ensemble\n",
    "ensemble.fit(X_train, y_train)\n",
    "\n",
    "# Predict and evaluate\n",
    "y_pred_ensemble = ensemble.predict(X_val)\n",
    "accuracy_ensemble = accuracy_score(y_val, y_pred_ensemble)\n",
    "print(f\"Ensemble Validation Accuracy: {accuracy_ensemble * 100:.2f}%\")\n"
   ]
  },
  {
   "cell_type": "markdown",
   "id": "18b0faeb",
   "metadata": {
    "papermill": {
     "duration": 0.008755,
     "end_time": "2025-04-29T18:33:06.235679",
     "exception": false,
     "start_time": "2025-04-29T18:33:06.226924",
     "status": "completed"
    },
    "tags": []
   },
   "source": [
    "# **Compare all models**"
   ]
  },
  {
   "cell_type": "code",
   "execution_count": 16,
   "id": "63615405",
   "metadata": {
    "execution": {
     "iopub.execute_input": "2025-04-29T18:33:06.253925Z",
     "iopub.status.busy": "2025-04-29T18:33:06.253634Z",
     "iopub.status.idle": "2025-04-29T18:33:06.259303Z",
     "shell.execute_reply": "2025-04-29T18:33:06.258021Z"
    },
    "papermill": {
     "duration": 0.016847,
     "end_time": "2025-04-29T18:33:06.261041",
     "exception": false,
     "start_time": "2025-04-29T18:33:06.244194",
     "status": "completed"
    },
    "tags": []
   },
   "outputs": [
    {
     "name": "stdout",
     "output_type": "stream",
     "text": [
      "Logistic Regression Accuracy: 91.89%\n",
      "KNN Accuracy: 96.67%\n",
      "Random Forest Accuracy: 96.30%\n",
      "MLP Neural Network Accuracy: 96.80%\n",
      "Voting Classifier Accuracy: 96.61%\n"
     ]
    }
   ],
   "source": [
    "print(f\"Logistic Regression Accuracy: {accuracy_log * 100:.2f}%\")\n",
    "print(f\"KNN Accuracy: {accuracy_knn * 100:.2f}%\")\n",
    "print(f\"Random Forest Accuracy: {accuracy_rf * 100:.2f}%\")\n",
    "print(f\"MLP Neural Network Accuracy: {accuracy_mlp * 100:.2f}%\")\n",
    "print(f\"Voting Classifier Accuracy: {accuracy_ensemble * 100:.2f}%\")"
   ]
  },
  {
   "cell_type": "markdown",
   "id": "f451a444",
   "metadata": {
    "papermill": {
     "duration": 0.008629,
     "end_time": "2025-04-29T18:33:06.278713",
     "exception": false,
     "start_time": "2025-04-29T18:33:06.270084",
     "status": "completed"
    },
    "tags": []
   },
   "source": [
    "# **Model 6: Convolutional Neural Networks (CNNs)**"
   ]
  },
  {
   "cell_type": "markdown",
   "id": "1377fa30",
   "metadata": {
    "papermill": {
     "duration": 0.008685,
     "end_time": "2025-04-29T18:33:06.296034",
     "exception": false,
     "start_time": "2025-04-29T18:33:06.287349",
     "status": "completed"
    },
    "tags": []
   },
   "source": [
    "# Data Preprocessing for CNN"
   ]
  },
  {
   "cell_type": "code",
   "execution_count": 17,
   "id": "6c793587",
   "metadata": {
    "execution": {
     "iopub.execute_input": "2025-04-29T18:33:06.315090Z",
     "iopub.status.busy": "2025-04-29T18:33:06.314771Z",
     "iopub.status.idle": "2025-04-29T18:33:06.505196Z",
     "shell.execute_reply": "2025-04-29T18:33:06.504163Z"
    },
    "papermill": {
     "duration": 0.201693,
     "end_time": "2025-04-29T18:33:06.506912",
     "exception": false,
     "start_time": "2025-04-29T18:33:06.305219",
     "status": "completed"
    },
    "tags": []
   },
   "outputs": [],
   "source": [
    "# Reshape data for CNN\n",
    "X_train_cnn = X_train.values.reshape(-1, 28, 28, 1)\n",
    "X_val_cnn = X_val.values.reshape(-1, 28, 28, 1)\n",
    "test_cnn = test.values.reshape(-1, 28, 28, 1)\n",
    "\n",
    "# Normalize (already probably normalized, but safe)\n",
    "X_train_cnn = X_train_cnn / 255.0\n",
    "X_val_cnn = X_val_cnn / 255.0\n",
    "test_cnn = test_cnn / 255.0\n"
   ]
  },
  {
   "cell_type": "markdown",
   "id": "3b36e057",
   "metadata": {
    "papermill": {
     "duration": 0.008163,
     "end_time": "2025-04-29T18:33:06.524073",
     "exception": false,
     "start_time": "2025-04-29T18:33:06.515910",
     "status": "completed"
    },
    "tags": []
   },
   "source": [
    "# Build a Simple CNN"
   ]
  },
  {
   "cell_type": "code",
   "execution_count": 18,
   "id": "4eb6bdc6",
   "metadata": {
    "execution": {
     "iopub.execute_input": "2025-04-29T18:33:06.542356Z",
     "iopub.status.busy": "2025-04-29T18:33:06.542032Z",
     "iopub.status.idle": "2025-04-29T18:33:25.148561Z",
     "shell.execute_reply": "2025-04-29T18:33:25.147253Z"
    },
    "papermill": {
     "duration": 18.617788,
     "end_time": "2025-04-29T18:33:25.150357",
     "exception": false,
     "start_time": "2025-04-29T18:33:06.532569",
     "status": "completed"
    },
    "tags": []
   },
   "outputs": [
    {
     "name": "stderr",
     "output_type": "stream",
     "text": [
      "2025-04-29 18:33:08.677275: E external/local_xla/xla/stream_executor/cuda/cuda_fft.cc:477] Unable to register cuFFT factory: Attempting to register factory for plugin cuFFT when one has already been registered\n",
      "WARNING: All log messages before absl::InitializeLog() is called are written to STDERR\n",
      "E0000 00:00:1745951588.977775      13 cuda_dnn.cc:8310] Unable to register cuDNN factory: Attempting to register factory for plugin cuDNN when one has already been registered\n",
      "E0000 00:00:1745951589.059452      13 cuda_blas.cc:1418] Unable to register cuBLAS factory: Attempting to register factory for plugin cuBLAS when one has already been registered\n",
      "/usr/local/lib/python3.11/dist-packages/keras/src/layers/convolutional/base_conv.py:107: UserWarning: Do not pass an `input_shape`/`input_dim` argument to a layer. When using Sequential models, prefer using an `Input(shape)` object as the first layer in the model instead.\n",
      "  super().__init__(activity_regularizer=activity_regularizer, **kwargs)\n",
      "2025-04-29 18:33:25.000264: E external/local_xla/xla/stream_executor/cuda/cuda_driver.cc:152] failed call to cuInit: INTERNAL: CUDA error: Failed call to cuInit: UNKNOWN ERROR (303)\n"
     ]
    },
    {
     "data": {
      "text/html": [
       "<pre style=\"white-space:pre;overflow-x:auto;line-height:normal;font-family:Menlo,'DejaVu Sans Mono',consolas,'Courier New',monospace\"><span style=\"font-weight: bold\">Model: \"sequential\"</span>\n",
       "</pre>\n"
      ],
      "text/plain": [
       "\u001b[1mModel: \"sequential\"\u001b[0m\n"
      ]
     },
     "metadata": {},
     "output_type": "display_data"
    },
    {
     "data": {
      "text/html": [
       "<pre style=\"white-space:pre;overflow-x:auto;line-height:normal;font-family:Menlo,'DejaVu Sans Mono',consolas,'Courier New',monospace\">┏━━━━━━━━━━━━━━━━━━━━━━━━━━━━━━━━━━━━━━┳━━━━━━━━━━━━━━━━━━━━━━━━━━━━━┳━━━━━━━━━━━━━━━━━┓\n",
       "┃<span style=\"font-weight: bold\"> Layer (type)                         </span>┃<span style=\"font-weight: bold\"> Output Shape                </span>┃<span style=\"font-weight: bold\">         Param # </span>┃\n",
       "┡━━━━━━━━━━━━━━━━━━━━━━━━━━━━━━━━━━━━━━╇━━━━━━━━━━━━━━━━━━━━━━━━━━━━━╇━━━━━━━━━━━━━━━━━┩\n",
       "│ conv2d (<span style=\"color: #0087ff; text-decoration-color: #0087ff\">Conv2D</span>)                      │ (<span style=\"color: #00d7ff; text-decoration-color: #00d7ff\">None</span>, <span style=\"color: #00af00; text-decoration-color: #00af00\">26</span>, <span style=\"color: #00af00; text-decoration-color: #00af00\">26</span>, <span style=\"color: #00af00; text-decoration-color: #00af00\">32</span>)          │             <span style=\"color: #00af00; text-decoration-color: #00af00\">320</span> │\n",
       "├──────────────────────────────────────┼─────────────────────────────┼─────────────────┤\n",
       "│ max_pooling2d (<span style=\"color: #0087ff; text-decoration-color: #0087ff\">MaxPooling2D</span>)         │ (<span style=\"color: #00d7ff; text-decoration-color: #00d7ff\">None</span>, <span style=\"color: #00af00; text-decoration-color: #00af00\">13</span>, <span style=\"color: #00af00; text-decoration-color: #00af00\">13</span>, <span style=\"color: #00af00; text-decoration-color: #00af00\">32</span>)          │               <span style=\"color: #00af00; text-decoration-color: #00af00\">0</span> │\n",
       "├──────────────────────────────────────┼─────────────────────────────┼─────────────────┤\n",
       "│ dropout (<span style=\"color: #0087ff; text-decoration-color: #0087ff\">Dropout</span>)                    │ (<span style=\"color: #00d7ff; text-decoration-color: #00d7ff\">None</span>, <span style=\"color: #00af00; text-decoration-color: #00af00\">13</span>, <span style=\"color: #00af00; text-decoration-color: #00af00\">13</span>, <span style=\"color: #00af00; text-decoration-color: #00af00\">32</span>)          │               <span style=\"color: #00af00; text-decoration-color: #00af00\">0</span> │\n",
       "├──────────────────────────────────────┼─────────────────────────────┼─────────────────┤\n",
       "│ conv2d_1 (<span style=\"color: #0087ff; text-decoration-color: #0087ff\">Conv2D</span>)                    │ (<span style=\"color: #00d7ff; text-decoration-color: #00d7ff\">None</span>, <span style=\"color: #00af00; text-decoration-color: #00af00\">11</span>, <span style=\"color: #00af00; text-decoration-color: #00af00\">11</span>, <span style=\"color: #00af00; text-decoration-color: #00af00\">64</span>)          │          <span style=\"color: #00af00; text-decoration-color: #00af00\">18,496</span> │\n",
       "├──────────────────────────────────────┼─────────────────────────────┼─────────────────┤\n",
       "│ max_pooling2d_1 (<span style=\"color: #0087ff; text-decoration-color: #0087ff\">MaxPooling2D</span>)       │ (<span style=\"color: #00d7ff; text-decoration-color: #00d7ff\">None</span>, <span style=\"color: #00af00; text-decoration-color: #00af00\">5</span>, <span style=\"color: #00af00; text-decoration-color: #00af00\">5</span>, <span style=\"color: #00af00; text-decoration-color: #00af00\">64</span>)            │               <span style=\"color: #00af00; text-decoration-color: #00af00\">0</span> │\n",
       "├──────────────────────────────────────┼─────────────────────────────┼─────────────────┤\n",
       "│ dropout_1 (<span style=\"color: #0087ff; text-decoration-color: #0087ff\">Dropout</span>)                  │ (<span style=\"color: #00d7ff; text-decoration-color: #00d7ff\">None</span>, <span style=\"color: #00af00; text-decoration-color: #00af00\">5</span>, <span style=\"color: #00af00; text-decoration-color: #00af00\">5</span>, <span style=\"color: #00af00; text-decoration-color: #00af00\">64</span>)            │               <span style=\"color: #00af00; text-decoration-color: #00af00\">0</span> │\n",
       "├──────────────────────────────────────┼─────────────────────────────┼─────────────────┤\n",
       "│ flatten (<span style=\"color: #0087ff; text-decoration-color: #0087ff\">Flatten</span>)                    │ (<span style=\"color: #00d7ff; text-decoration-color: #00d7ff\">None</span>, <span style=\"color: #00af00; text-decoration-color: #00af00\">1600</span>)                │               <span style=\"color: #00af00; text-decoration-color: #00af00\">0</span> │\n",
       "├──────────────────────────────────────┼─────────────────────────────┼─────────────────┤\n",
       "│ dense (<span style=\"color: #0087ff; text-decoration-color: #0087ff\">Dense</span>)                        │ (<span style=\"color: #00d7ff; text-decoration-color: #00d7ff\">None</span>, <span style=\"color: #00af00; text-decoration-color: #00af00\">128</span>)                 │         <span style=\"color: #00af00; text-decoration-color: #00af00\">204,928</span> │\n",
       "├──────────────────────────────────────┼─────────────────────────────┼─────────────────┤\n",
       "│ dropout_2 (<span style=\"color: #0087ff; text-decoration-color: #0087ff\">Dropout</span>)                  │ (<span style=\"color: #00d7ff; text-decoration-color: #00d7ff\">None</span>, <span style=\"color: #00af00; text-decoration-color: #00af00\">128</span>)                 │               <span style=\"color: #00af00; text-decoration-color: #00af00\">0</span> │\n",
       "├──────────────────────────────────────┼─────────────────────────────┼─────────────────┤\n",
       "│ dense_1 (<span style=\"color: #0087ff; text-decoration-color: #0087ff\">Dense</span>)                      │ (<span style=\"color: #00d7ff; text-decoration-color: #00d7ff\">None</span>, <span style=\"color: #00af00; text-decoration-color: #00af00\">10</span>)                  │           <span style=\"color: #00af00; text-decoration-color: #00af00\">1,290</span> │\n",
       "└──────────────────────────────────────┴─────────────────────────────┴─────────────────┘\n",
       "</pre>\n"
      ],
      "text/plain": [
       "┏━━━━━━━━━━━━━━━━━━━━━━━━━━━━━━━━━━━━━━┳━━━━━━━━━━━━━━━━━━━━━━━━━━━━━┳━━━━━━━━━━━━━━━━━┓\n",
       "┃\u001b[1m \u001b[0m\u001b[1mLayer (type)                        \u001b[0m\u001b[1m \u001b[0m┃\u001b[1m \u001b[0m\u001b[1mOutput Shape               \u001b[0m\u001b[1m \u001b[0m┃\u001b[1m \u001b[0m\u001b[1m        Param #\u001b[0m\u001b[1m \u001b[0m┃\n",
       "┡━━━━━━━━━━━━━━━━━━━━━━━━━━━━━━━━━━━━━━╇━━━━━━━━━━━━━━━━━━━━━━━━━━━━━╇━━━━━━━━━━━━━━━━━┩\n",
       "│ conv2d (\u001b[38;5;33mConv2D\u001b[0m)                      │ (\u001b[38;5;45mNone\u001b[0m, \u001b[38;5;34m26\u001b[0m, \u001b[38;5;34m26\u001b[0m, \u001b[38;5;34m32\u001b[0m)          │             \u001b[38;5;34m320\u001b[0m │\n",
       "├──────────────────────────────────────┼─────────────────────────────┼─────────────────┤\n",
       "│ max_pooling2d (\u001b[38;5;33mMaxPooling2D\u001b[0m)         │ (\u001b[38;5;45mNone\u001b[0m, \u001b[38;5;34m13\u001b[0m, \u001b[38;5;34m13\u001b[0m, \u001b[38;5;34m32\u001b[0m)          │               \u001b[38;5;34m0\u001b[0m │\n",
       "├──────────────────────────────────────┼─────────────────────────────┼─────────────────┤\n",
       "│ dropout (\u001b[38;5;33mDropout\u001b[0m)                    │ (\u001b[38;5;45mNone\u001b[0m, \u001b[38;5;34m13\u001b[0m, \u001b[38;5;34m13\u001b[0m, \u001b[38;5;34m32\u001b[0m)          │               \u001b[38;5;34m0\u001b[0m │\n",
       "├──────────────────────────────────────┼─────────────────────────────┼─────────────────┤\n",
       "│ conv2d_1 (\u001b[38;5;33mConv2D\u001b[0m)                    │ (\u001b[38;5;45mNone\u001b[0m, \u001b[38;5;34m11\u001b[0m, \u001b[38;5;34m11\u001b[0m, \u001b[38;5;34m64\u001b[0m)          │          \u001b[38;5;34m18,496\u001b[0m │\n",
       "├──────────────────────────────────────┼─────────────────────────────┼─────────────────┤\n",
       "│ max_pooling2d_1 (\u001b[38;5;33mMaxPooling2D\u001b[0m)       │ (\u001b[38;5;45mNone\u001b[0m, \u001b[38;5;34m5\u001b[0m, \u001b[38;5;34m5\u001b[0m, \u001b[38;5;34m64\u001b[0m)            │               \u001b[38;5;34m0\u001b[0m │\n",
       "├──────────────────────────────────────┼─────────────────────────────┼─────────────────┤\n",
       "│ dropout_1 (\u001b[38;5;33mDropout\u001b[0m)                  │ (\u001b[38;5;45mNone\u001b[0m, \u001b[38;5;34m5\u001b[0m, \u001b[38;5;34m5\u001b[0m, \u001b[38;5;34m64\u001b[0m)            │               \u001b[38;5;34m0\u001b[0m │\n",
       "├──────────────────────────────────────┼─────────────────────────────┼─────────────────┤\n",
       "│ flatten (\u001b[38;5;33mFlatten\u001b[0m)                    │ (\u001b[38;5;45mNone\u001b[0m, \u001b[38;5;34m1600\u001b[0m)                │               \u001b[38;5;34m0\u001b[0m │\n",
       "├──────────────────────────────────────┼─────────────────────────────┼─────────────────┤\n",
       "│ dense (\u001b[38;5;33mDense\u001b[0m)                        │ (\u001b[38;5;45mNone\u001b[0m, \u001b[38;5;34m128\u001b[0m)                 │         \u001b[38;5;34m204,928\u001b[0m │\n",
       "├──────────────────────────────────────┼─────────────────────────────┼─────────────────┤\n",
       "│ dropout_2 (\u001b[38;5;33mDropout\u001b[0m)                  │ (\u001b[38;5;45mNone\u001b[0m, \u001b[38;5;34m128\u001b[0m)                 │               \u001b[38;5;34m0\u001b[0m │\n",
       "├──────────────────────────────────────┼─────────────────────────────┼─────────────────┤\n",
       "│ dense_1 (\u001b[38;5;33mDense\u001b[0m)                      │ (\u001b[38;5;45mNone\u001b[0m, \u001b[38;5;34m10\u001b[0m)                  │           \u001b[38;5;34m1,290\u001b[0m │\n",
       "└──────────────────────────────────────┴─────────────────────────────┴─────────────────┘\n"
      ]
     },
     "metadata": {},
     "output_type": "display_data"
    },
    {
     "data": {
      "text/html": [
       "<pre style=\"white-space:pre;overflow-x:auto;line-height:normal;font-family:Menlo,'DejaVu Sans Mono',consolas,'Courier New',monospace\"><span style=\"font-weight: bold\"> Total params: </span><span style=\"color: #00af00; text-decoration-color: #00af00\">225,034</span> (879.04 KB)\n",
       "</pre>\n"
      ],
      "text/plain": [
       "\u001b[1m Total params: \u001b[0m\u001b[38;5;34m225,034\u001b[0m (879.04 KB)\n"
      ]
     },
     "metadata": {},
     "output_type": "display_data"
    },
    {
     "data": {
      "text/html": [
       "<pre style=\"white-space:pre;overflow-x:auto;line-height:normal;font-family:Menlo,'DejaVu Sans Mono',consolas,'Courier New',monospace\"><span style=\"font-weight: bold\"> Trainable params: </span><span style=\"color: #00af00; text-decoration-color: #00af00\">225,034</span> (879.04 KB)\n",
       "</pre>\n"
      ],
      "text/plain": [
       "\u001b[1m Trainable params: \u001b[0m\u001b[38;5;34m225,034\u001b[0m (879.04 KB)\n"
      ]
     },
     "metadata": {},
     "output_type": "display_data"
    },
    {
     "data": {
      "text/html": [
       "<pre style=\"white-space:pre;overflow-x:auto;line-height:normal;font-family:Menlo,'DejaVu Sans Mono',consolas,'Courier New',monospace\"><span style=\"font-weight: bold\"> Non-trainable params: </span><span style=\"color: #00af00; text-decoration-color: #00af00\">0</span> (0.00 B)\n",
       "</pre>\n"
      ],
      "text/plain": [
       "\u001b[1m Non-trainable params: \u001b[0m\u001b[38;5;34m0\u001b[0m (0.00 B)\n"
      ]
     },
     "metadata": {},
     "output_type": "display_data"
    }
   ],
   "source": [
    "import tensorflow as tf\n",
    "from tensorflow.keras import layers, models\n",
    "\n",
    "# Build CNN model\n",
    "# model_cnn = models.Sequential([\n",
    "#     layers.Conv2D(32, (3, 3), activation='relu', input_shape=(28, 28, 1)),\n",
    "#     layers.MaxPooling2D((2, 2)),\n",
    "\n",
    "#     layers.Conv2D(64, (3, 3), activation='relu'),\n",
    "#     layers.MaxPooling2D((2, 2)),\n",
    "\n",
    "#     layers.Flatten(),\n",
    "#     layers.Dense(64, activation='relu'),\n",
    "#     layers.Dense(10, activation='softmax')\n",
    "# ])\n",
    "\n",
    "# make it better\n",
    "model_cnn = models.Sequential([\n",
    "    layers.Conv2D(32, (3, 3), activation='relu', input_shape=(28, 28, 1)),\n",
    "    layers.MaxPooling2D((2, 2)),\n",
    "    layers.Dropout(0.25),\n",
    "\n",
    "    layers.Conv2D(64, (3, 3), activation='relu'),\n",
    "    layers.MaxPooling2D((2, 2)),\n",
    "    layers.Dropout(0.25),\n",
    "\n",
    "    layers.Flatten(),\n",
    "    layers.Dense(128, activation='relu'),\n",
    "    layers.Dropout(0.5),\n",
    "    layers.Dense(10, activation='softmax')\n",
    "])\n",
    "\n",
    "# Compile the model\n",
    "model_cnn.compile(optimizer='adam',\n",
    "                  loss='sparse_categorical_crossentropy',\n",
    "                  metrics=['accuracy'])\n",
    "\n",
    "model_cnn.summary()\n"
   ]
  },
  {
   "cell_type": "markdown",
   "id": "c8267036",
   "metadata": {
    "papermill": {
     "duration": 0.01051,
     "end_time": "2025-04-29T18:33:25.171096",
     "exception": false,
     "start_time": "2025-04-29T18:33:25.160586",
     "status": "completed"
    },
    "tags": []
   },
   "source": [
    "# Train the CNN"
   ]
  },
  {
   "cell_type": "code",
   "execution_count": 19,
   "id": "206dc48c",
   "metadata": {
    "execution": {
     "iopub.execute_input": "2025-04-29T18:33:25.194041Z",
     "iopub.status.busy": "2025-04-29T18:33:25.192220Z",
     "iopub.status.idle": "2025-04-29T18:35:54.946292Z",
     "shell.execute_reply": "2025-04-29T18:35:54.945494Z"
    },
    "papermill": {
     "duration": 149.766956,
     "end_time": "2025-04-29T18:35:54.948052",
     "exception": false,
     "start_time": "2025-04-29T18:33:25.181096",
     "status": "completed"
    },
    "tags": []
   },
   "outputs": [
    {
     "name": "stdout",
     "output_type": "stream",
     "text": [
      "Epoch 1/30\n",
      "\u001b[1m1050/1050\u001b[0m \u001b[32m━━━━━━━━━━━━━━━━━━━━\u001b[0m\u001b[37m\u001b[0m \u001b[1m24s\u001b[0m 20ms/step - accuracy: 0.1074 - loss: 2.3022 - val_accuracy: 0.1082 - val_loss: 2.3012\n",
      "Epoch 2/30\n",
      "\u001b[1m1050/1050\u001b[0m \u001b[32m━━━━━━━━━━━━━━━━━━━━\u001b[0m\u001b[37m\u001b[0m \u001b[1m21s\u001b[0m 20ms/step - accuracy: 0.1134 - loss: 2.3014 - val_accuracy: 0.1082 - val_loss: 2.3009\n",
      "Epoch 3/30\n",
      "\u001b[1m1050/1050\u001b[0m \u001b[32m━━━━━━━━━━━━━━━━━━━━\u001b[0m\u001b[37m\u001b[0m \u001b[1m21s\u001b[0m 20ms/step - accuracy: 0.1122 - loss: 2.3016 - val_accuracy: 0.1082 - val_loss: 2.3010\n",
      "Epoch 4/30\n",
      "\u001b[1m1050/1050\u001b[0m \u001b[32m━━━━━━━━━━━━━━━━━━━━\u001b[0m\u001b[37m\u001b[0m \u001b[1m21s\u001b[0m 20ms/step - accuracy: 0.1153 - loss: 2.3010 - val_accuracy: 0.1082 - val_loss: 2.3012\n",
      "Epoch 5/30\n",
      "\u001b[1m1050/1050\u001b[0m \u001b[32m━━━━━━━━━━━━━━━━━━━━\u001b[0m\u001b[37m\u001b[0m \u001b[1m21s\u001b[0m 20ms/step - accuracy: 0.1128 - loss: 2.3012 - val_accuracy: 0.1082 - val_loss: 2.3012\n",
      "Epoch 6/30\n",
      "\u001b[1m1050/1050\u001b[0m \u001b[32m━━━━━━━━━━━━━━━━━━━━\u001b[0m\u001b[37m\u001b[0m \u001b[1m21s\u001b[0m 20ms/step - accuracy: 0.1143 - loss: 2.3014 - val_accuracy: 0.1082 - val_loss: 2.3009\n",
      "Epoch 7/30\n",
      "\u001b[1m1050/1050\u001b[0m \u001b[32m━━━━━━━━━━━━━━━━━━━━\u001b[0m\u001b[37m\u001b[0m \u001b[1m21s\u001b[0m 20ms/step - accuracy: 0.1148 - loss: 2.3010 - val_accuracy: 0.1082 - val_loss: 2.3011\n"
     ]
    }
   ],
   "source": [
    "# # Train CNN\n",
    "# history = model_cnn.fit(X_train_cnn, y_train, epochs=10, \n",
    "#                         validation_data=(X_val_cnn, y_val))\n",
    "\n",
    "\n",
    "from tensorflow.keras.callbacks import EarlyStopping\n",
    "\n",
    "early_stop = EarlyStopping(monitor='val_loss', patience=5, restore_best_weights=True)\n",
    "\n",
    "# Train\n",
    "history = model_cnn.fit(X_train_cnn, y_train, epochs=30,\n",
    "                        validation_data=(X_val_cnn, y_val),\n",
    "                        callbacks=[early_stop])"
   ]
  },
  {
   "cell_type": "markdown",
   "id": "2ada40d3",
   "metadata": {
    "papermill": {
     "duration": 0.134866,
     "end_time": "2025-04-29T18:35:55.215616",
     "exception": false,
     "start_time": "2025-04-29T18:35:55.080750",
     "status": "completed"
    },
    "tags": []
   },
   "source": [
    "# ****"
   ]
  },
  {
   "cell_type": "code",
   "execution_count": 20,
   "id": "0c56446a",
   "metadata": {
    "execution": {
     "iopub.execute_input": "2025-04-29T18:35:55.481048Z",
     "iopub.status.busy": "2025-04-29T18:35:55.480673Z",
     "iopub.status.idle": "2025-04-29T19:08:50.723272Z",
     "shell.execute_reply": "2025-04-29T19:08:50.722040Z"
    },
    "papermill": {
     "duration": 1975.3772,
     "end_time": "2025-04-29T19:08:50.724950",
     "exception": false,
     "start_time": "2025-04-29T18:35:55.347750",
     "status": "completed"
    },
    "tags": []
   },
   "outputs": [
    {
     "name": "stdout",
     "output_type": "stream",
     "text": [
      "Epoch 1/50\n"
     ]
    },
    {
     "name": "stderr",
     "output_type": "stream",
     "text": [
      "/usr/local/lib/python3.11/dist-packages/keras/src/trainers/data_adapters/py_dataset_adapter.py:122: UserWarning: Your `PyDataset` class should call `super().__init__(**kwargs)` in its constructor. `**kwargs` can include `workers`, `use_multiprocessing`, `max_queue_size`. Do not pass these arguments to `fit()`, as they will be ignored.\n",
      "  self._warn_if_super_not_called()\n"
     ]
    },
    {
     "name": "stdout",
     "output_type": "stream",
     "text": [
      "\u001b[1m525/525\u001b[0m \u001b[32m━━━━━━━━━━━━━━━━━━━━\u001b[0m\u001b[37m\u001b[0m \u001b[1m0s\u001b[0m 104ms/step - accuracy: 0.6659 - loss: 1.1471\n",
      "Epoch 1: val_accuracy improved from -inf to 0.09940, saving model to best_model.keras\n",
      "\u001b[1m525/525\u001b[0m \u001b[32m━━━━━━━━━━━━━━━━━━━━\u001b[0m\u001b[37m\u001b[0m \u001b[1m65s\u001b[0m 113ms/step - accuracy: 0.6662 - loss: 1.1461 - val_accuracy: 0.0994 - val_loss: 12.5197 - learning_rate: 0.0010\n",
      "Epoch 2/50\n",
      "\u001b[1m525/525\u001b[0m \u001b[32m━━━━━━━━━━━━━━━━━━━━\u001b[0m\u001b[37m\u001b[0m \u001b[1m0s\u001b[0m 104ms/step - accuracy: 0.9347 - loss: 0.2134\n",
      "Epoch 2: val_accuracy improved from 0.09940 to 0.96333, saving model to best_model.keras\n",
      "\u001b[1m525/525\u001b[0m \u001b[32m━━━━━━━━━━━━━━━━━━━━\u001b[0m\u001b[37m\u001b[0m \u001b[1m59s\u001b[0m 111ms/step - accuracy: 0.9347 - loss: 0.2133 - val_accuracy: 0.9633 - val_loss: 0.1179 - learning_rate: 0.0010\n",
      "Epoch 3/50\n",
      "\u001b[1m525/525\u001b[0m \u001b[32m━━━━━━━━━━━━━━━━━━━━\u001b[0m\u001b[37m\u001b[0m \u001b[1m0s\u001b[0m 106ms/step - accuracy: 0.9520 - loss: 0.1582\n",
      "Epoch 3: val_accuracy improved from 0.96333 to 0.98119, saving model to best_model.keras\n",
      "\u001b[1m525/525\u001b[0m \u001b[32m━━━━━━━━━━━━━━━━━━━━\u001b[0m\u001b[37m\u001b[0m \u001b[1m59s\u001b[0m 113ms/step - accuracy: 0.9520 - loss: 0.1582 - val_accuracy: 0.9812 - val_loss: 0.0592 - learning_rate: 0.0010\n",
      "Epoch 4/50\n",
      "\u001b[1m525/525\u001b[0m \u001b[32m━━━━━━━━━━━━━━━━━━━━\u001b[0m\u001b[37m\u001b[0m \u001b[1m0s\u001b[0m 106ms/step - accuracy: 0.9638 - loss: 0.1234\n",
      "Epoch 4: val_accuracy did not improve from 0.98119\n",
      "\u001b[1m525/525\u001b[0m \u001b[32m━━━━━━━━━━━━━━━━━━━━\u001b[0m\u001b[37m\u001b[0m \u001b[1m61s\u001b[0m 115ms/step - accuracy: 0.9638 - loss: 0.1233 - val_accuracy: 0.8357 - val_loss: 0.5813 - learning_rate: 0.0010\n",
      "Epoch 5/50\n",
      "\u001b[1m525/525\u001b[0m \u001b[32m━━━━━━━━━━━━━━━━━━━━\u001b[0m\u001b[37m\u001b[0m \u001b[1m0s\u001b[0m 105ms/step - accuracy: 0.9650 - loss: 0.1177\n",
      "Epoch 5: val_accuracy did not improve from 0.98119\n",
      "\u001b[1m525/525\u001b[0m \u001b[32m━━━━━━━━━━━━━━━━━━━━\u001b[0m\u001b[37m\u001b[0m \u001b[1m61s\u001b[0m 115ms/step - accuracy: 0.9650 - loss: 0.1177 - val_accuracy: 0.9769 - val_loss: 0.0736 - learning_rate: 0.0010\n",
      "Epoch 6/50\n",
      "\u001b[1m525/525\u001b[0m \u001b[32m━━━━━━━━━━━━━━━━━━━━\u001b[0m\u001b[37m\u001b[0m \u001b[1m0s\u001b[0m 114ms/step - accuracy: 0.9693 - loss: 0.0995\n",
      "Epoch 6: val_accuracy improved from 0.98119 to 0.98798, saving model to best_model.keras\n",
      "\u001b[1m525/525\u001b[0m \u001b[32m━━━━━━━━━━━━━━━━━━━━\u001b[0m\u001b[37m\u001b[0m \u001b[1m64s\u001b[0m 122ms/step - accuracy: 0.9693 - loss: 0.0995 - val_accuracy: 0.9880 - val_loss: 0.0370 - learning_rate: 0.0010\n",
      "Epoch 7/50\n",
      "\u001b[1m525/525\u001b[0m \u001b[32m━━━━━━━━━━━━━━━━━━━━\u001b[0m\u001b[37m\u001b[0m \u001b[1m0s\u001b[0m 107ms/step - accuracy: 0.9728 - loss: 0.0918\n",
      "Epoch 7: val_accuracy did not improve from 0.98798\n",
      "\u001b[1m525/525\u001b[0m \u001b[32m━━━━━━━━━━━━━━━━━━━━\u001b[0m\u001b[37m\u001b[0m \u001b[1m60s\u001b[0m 114ms/step - accuracy: 0.9728 - loss: 0.0918 - val_accuracy: 0.9863 - val_loss: 0.0421 - learning_rate: 0.0010\n",
      "Epoch 8/50\n",
      "\u001b[1m525/525\u001b[0m \u001b[32m━━━━━━━━━━━━━━━━━━━━\u001b[0m\u001b[37m\u001b[0m \u001b[1m0s\u001b[0m 107ms/step - accuracy: 0.9741 - loss: 0.0897\n",
      "Epoch 8: val_accuracy did not improve from 0.98798\n",
      "\u001b[1m525/525\u001b[0m \u001b[32m━━━━━━━━━━━━━━━━━━━━\u001b[0m\u001b[37m\u001b[0m \u001b[1m82s\u001b[0m 114ms/step - accuracy: 0.9741 - loss: 0.0897 - val_accuracy: 0.9871 - val_loss: 0.0410 - learning_rate: 0.0010\n",
      "Epoch 9/50\n",
      "\u001b[1m525/525\u001b[0m \u001b[32m━━━━━━━━━━━━━━━━━━━━\u001b[0m\u001b[37m\u001b[0m \u001b[1m0s\u001b[0m 107ms/step - accuracy: 0.9743 - loss: 0.0877\n",
      "Epoch 9: val_accuracy did not improve from 0.98798\n",
      "\u001b[1m525/525\u001b[0m \u001b[32m━━━━━━━━━━━━━━━━━━━━\u001b[0m\u001b[37m\u001b[0m \u001b[1m60s\u001b[0m 114ms/step - accuracy: 0.9743 - loss: 0.0877 - val_accuracy: 0.9880 - val_loss: 0.0358 - learning_rate: 0.0010\n",
      "Epoch 10/50\n",
      "\u001b[1m525/525\u001b[0m \u001b[32m━━━━━━━━━━━━━━━━━━━━\u001b[0m\u001b[37m\u001b[0m \u001b[1m0s\u001b[0m 107ms/step - accuracy: 0.9766 - loss: 0.0821\n",
      "Epoch 10: val_accuracy did not improve from 0.98798\n",
      "\u001b[1m525/525\u001b[0m \u001b[32m━━━━━━━━━━━━━━━━━━━━\u001b[0m\u001b[37m\u001b[0m \u001b[1m60s\u001b[0m 114ms/step - accuracy: 0.9766 - loss: 0.0822 - val_accuracy: 0.9460 - val_loss: 0.1527 - learning_rate: 0.0010\n",
      "Epoch 11/50\n",
      "\u001b[1m525/525\u001b[0m \u001b[32m━━━━━━━━━━━━━━━━━━━━\u001b[0m\u001b[37m\u001b[0m \u001b[1m0s\u001b[0m 107ms/step - accuracy: 0.9783 - loss: 0.0743\n",
      "Epoch 11: val_accuracy improved from 0.98798 to 0.99131, saving model to best_model.keras\n",
      "\u001b[1m525/525\u001b[0m \u001b[32m━━━━━━━━━━━━━━━━━━━━\u001b[0m\u001b[37m\u001b[0m \u001b[1m60s\u001b[0m 114ms/step - accuracy: 0.9783 - loss: 0.0743 - val_accuracy: 0.9913 - val_loss: 0.0295 - learning_rate: 0.0010\n",
      "Epoch 12/50\n",
      "\u001b[1m525/525\u001b[0m \u001b[32m━━━━━━━━━━━━━━━━━━━━\u001b[0m\u001b[37m\u001b[0m \u001b[1m0s\u001b[0m 106ms/step - accuracy: 0.9792 - loss: 0.0749\n",
      "Epoch 12: val_accuracy did not improve from 0.99131\n",
      "\u001b[1m525/525\u001b[0m \u001b[32m━━━━━━━━━━━━━━━━━━━━\u001b[0m\u001b[37m\u001b[0m \u001b[1m59s\u001b[0m 113ms/step - accuracy: 0.9792 - loss: 0.0749 - val_accuracy: 0.9862 - val_loss: 0.0439 - learning_rate: 0.0010\n",
      "Epoch 13/50\n",
      "\u001b[1m525/525\u001b[0m \u001b[32m━━━━━━━━━━━━━━━━━━━━\u001b[0m\u001b[37m\u001b[0m \u001b[1m0s\u001b[0m 106ms/step - accuracy: 0.9795 - loss: 0.0706\n",
      "Epoch 13: val_accuracy improved from 0.99131 to 0.99250, saving model to best_model.keras\n",
      "\u001b[1m525/525\u001b[0m \u001b[32m━━━━━━━━━━━━━━━━━━━━\u001b[0m\u001b[37m\u001b[0m \u001b[1m60s\u001b[0m 113ms/step - accuracy: 0.9795 - loss: 0.0706 - val_accuracy: 0.9925 - val_loss: 0.0266 - learning_rate: 0.0010\n",
      "Epoch 14/50\n",
      "\u001b[1m525/525\u001b[0m \u001b[32m━━━━━━━━━━━━━━━━━━━━\u001b[0m\u001b[37m\u001b[0m \u001b[1m0s\u001b[0m 106ms/step - accuracy: 0.9797 - loss: 0.0666\n",
      "Epoch 14: val_accuracy did not improve from 0.99250\n",
      "\u001b[1m525/525\u001b[0m \u001b[32m━━━━━━━━━━━━━━━━━━━━\u001b[0m\u001b[37m\u001b[0m \u001b[1m60s\u001b[0m 114ms/step - accuracy: 0.9797 - loss: 0.0666 - val_accuracy: 0.9806 - val_loss: 0.0655 - learning_rate: 0.0010\n",
      "Epoch 15/50\n",
      "\u001b[1m525/525\u001b[0m \u001b[32m━━━━━━━━━━━━━━━━━━━━\u001b[0m\u001b[37m\u001b[0m \u001b[1m0s\u001b[0m 109ms/step - accuracy: 0.9795 - loss: 0.0694\n",
      "Epoch 15: val_accuracy did not improve from 0.99250\n",
      "\u001b[1m525/525\u001b[0m \u001b[32m━━━━━━━━━━━━━━━━━━━━\u001b[0m\u001b[37m\u001b[0m \u001b[1m61s\u001b[0m 115ms/step - accuracy: 0.9795 - loss: 0.0694 - val_accuracy: 0.9917 - val_loss: 0.0275 - learning_rate: 0.0010\n",
      "Epoch 16/50\n",
      "\u001b[1m525/525\u001b[0m \u001b[32m━━━━━━━━━━━━━━━━━━━━\u001b[0m\u001b[37m\u001b[0m \u001b[1m0s\u001b[0m 107ms/step - accuracy: 0.9836 - loss: 0.0605\n",
      "Epoch 16: ReduceLROnPlateau reducing learning rate to 0.0005000000237487257.\n",
      "\n",
      "Epoch 16: val_accuracy did not improve from 0.99250\n",
      "\u001b[1m525/525\u001b[0m \u001b[32m━━━━━━━━━━━━━━━━━━━━\u001b[0m\u001b[37m\u001b[0m \u001b[1m60s\u001b[0m 114ms/step - accuracy: 0.9836 - loss: 0.0605 - val_accuracy: 0.9918 - val_loss: 0.0272 - learning_rate: 0.0010\n",
      "Epoch 17/50\n",
      "\u001b[1m525/525\u001b[0m \u001b[32m━━━━━━━━━━━━━━━━━━━━\u001b[0m\u001b[37m\u001b[0m \u001b[1m0s\u001b[0m 107ms/step - accuracy: 0.9849 - loss: 0.0532\n",
      "Epoch 17: val_accuracy improved from 0.99250 to 0.99357, saving model to best_model.keras\n",
      "\u001b[1m525/525\u001b[0m \u001b[32m━━━━━━━━━━━━━━━━━━━━\u001b[0m\u001b[37m\u001b[0m \u001b[1m60s\u001b[0m 114ms/step - accuracy: 0.9849 - loss: 0.0532 - val_accuracy: 0.9936 - val_loss: 0.0195 - learning_rate: 5.0000e-04\n",
      "Epoch 18/50\n",
      "\u001b[1m525/525\u001b[0m \u001b[32m━━━━━━━━━━━━━━━━━━━━\u001b[0m\u001b[37m\u001b[0m \u001b[1m0s\u001b[0m 105ms/step - accuracy: 0.9869 - loss: 0.0422\n",
      "Epoch 18: val_accuracy improved from 0.99357 to 0.99417, saving model to best_model.keras\n",
      "\u001b[1m525/525\u001b[0m \u001b[32m━━━━━━━━━━━━━━━━━━━━\u001b[0m\u001b[37m\u001b[0m \u001b[1m59s\u001b[0m 112ms/step - accuracy: 0.9869 - loss: 0.0422 - val_accuracy: 0.9942 - val_loss: 0.0218 - learning_rate: 5.0000e-04\n",
      "Epoch 19/50\n",
      "\u001b[1m525/525\u001b[0m \u001b[32m━━━━━━━━━━━━━━━━━━━━\u001b[0m\u001b[37m\u001b[0m \u001b[1m0s\u001b[0m 107ms/step - accuracy: 0.9882 - loss: 0.0415\n",
      "Epoch 19: val_accuracy improved from 0.99417 to 0.99536, saving model to best_model.keras\n",
      "\u001b[1m525/525\u001b[0m \u001b[32m━━━━━━━━━━━━━━━━━━━━\u001b[0m\u001b[37m\u001b[0m \u001b[1m60s\u001b[0m 114ms/step - accuracy: 0.9882 - loss: 0.0415 - val_accuracy: 0.9954 - val_loss: 0.0162 - learning_rate: 5.0000e-04\n",
      "Epoch 20/50\n",
      "\u001b[1m525/525\u001b[0m \u001b[32m━━━━━━━━━━━━━━━━━━━━\u001b[0m\u001b[37m\u001b[0m \u001b[1m0s\u001b[0m 108ms/step - accuracy: 0.9876 - loss: 0.0447\n",
      "Epoch 20: val_accuracy did not improve from 0.99536\n",
      "\u001b[1m525/525\u001b[0m \u001b[32m━━━━━━━━━━━━━━━━━━━━\u001b[0m\u001b[37m\u001b[0m \u001b[1m61s\u001b[0m 115ms/step - accuracy: 0.9876 - loss: 0.0447 - val_accuracy: 0.9946 - val_loss: 0.0186 - learning_rate: 5.0000e-04\n",
      "Epoch 21/50\n",
      "\u001b[1m525/525\u001b[0m \u001b[32m━━━━━━━━━━━━━━━━━━━━\u001b[0m\u001b[37m\u001b[0m \u001b[1m0s\u001b[0m 107ms/step - accuracy: 0.9877 - loss: 0.0402\n",
      "Epoch 21: val_accuracy did not improve from 0.99536\n",
      "\u001b[1m525/525\u001b[0m \u001b[32m━━━━━━━━━━━━━━━━━━━━\u001b[0m\u001b[37m\u001b[0m \u001b[1m60s\u001b[0m 114ms/step - accuracy: 0.9877 - loss: 0.0402 - val_accuracy: 0.9949 - val_loss: 0.0177 - learning_rate: 5.0000e-04\n",
      "Epoch 22/50\n",
      "\u001b[1m525/525\u001b[0m \u001b[32m━━━━━━━━━━━━━━━━━━━━\u001b[0m\u001b[37m\u001b[0m \u001b[1m0s\u001b[0m 108ms/step - accuracy: 0.9880 - loss: 0.0422\n",
      "Epoch 22: ReduceLROnPlateau reducing learning rate to 0.0002500000118743628.\n",
      "\n",
      "Epoch 22: val_accuracy did not improve from 0.99536\n",
      "\u001b[1m525/525\u001b[0m \u001b[32m━━━━━━━━━━━━━━━━━━━━\u001b[0m\u001b[37m\u001b[0m \u001b[1m61s\u001b[0m 115ms/step - accuracy: 0.9880 - loss: 0.0422 - val_accuracy: 0.9943 - val_loss: 0.0173 - learning_rate: 5.0000e-04\n",
      "Epoch 23/50\n",
      "\u001b[1m525/525\u001b[0m \u001b[32m━━━━━━━━━━━━━━━━━━━━\u001b[0m\u001b[37m\u001b[0m \u001b[1m0s\u001b[0m 108ms/step - accuracy: 0.9879 - loss: 0.0426\n",
      "Epoch 23: val_accuracy improved from 0.99536 to 0.99571, saving model to best_model.keras\n",
      "\u001b[1m525/525\u001b[0m \u001b[32m━━━━━━━━━━━━━━━━━━━━\u001b[0m\u001b[37m\u001b[0m \u001b[1m61s\u001b[0m 115ms/step - accuracy: 0.9879 - loss: 0.0426 - val_accuracy: 0.9957 - val_loss: 0.0142 - learning_rate: 2.5000e-04\n",
      "Epoch 24/50\n",
      "\u001b[1m525/525\u001b[0m \u001b[32m━━━━━━━━━━━━━━━━━━━━\u001b[0m\u001b[37m\u001b[0m \u001b[1m0s\u001b[0m 105ms/step - accuracy: 0.9894 - loss: 0.0366\n",
      "Epoch 24: val_accuracy did not improve from 0.99571\n",
      "\u001b[1m525/525\u001b[0m \u001b[32m━━━━━━━━━━━━━━━━━━━━\u001b[0m\u001b[37m\u001b[0m \u001b[1m59s\u001b[0m 112ms/step - accuracy: 0.9894 - loss: 0.0366 - val_accuracy: 0.9957 - val_loss: 0.0143 - learning_rate: 2.5000e-04\n",
      "Epoch 25/50\n",
      "\u001b[1m525/525\u001b[0m \u001b[32m━━━━━━━━━━━━━━━━━━━━\u001b[0m\u001b[37m\u001b[0m \u001b[1m0s\u001b[0m 106ms/step - accuracy: 0.9909 - loss: 0.0305\n",
      "Epoch 25: val_accuracy did not improve from 0.99571\n",
      "\u001b[1m525/525\u001b[0m \u001b[32m━━━━━━━━━━━━━━━━━━━━\u001b[0m\u001b[37m\u001b[0m \u001b[1m59s\u001b[0m 113ms/step - accuracy: 0.9909 - loss: 0.0305 - val_accuracy: 0.9943 - val_loss: 0.0164 - learning_rate: 2.5000e-04\n",
      "Epoch 26/50\n",
      "\u001b[1m525/525\u001b[0m \u001b[32m━━━━━━━━━━━━━━━━━━━━\u001b[0m\u001b[37m\u001b[0m \u001b[1m0s\u001b[0m 108ms/step - accuracy: 0.9913 - loss: 0.0328\n",
      "Epoch 26: ReduceLROnPlateau reducing learning rate to 0.0001250000059371814.\n",
      "\n",
      "Epoch 26: val_accuracy did not improve from 0.99571\n",
      "\u001b[1m525/525\u001b[0m \u001b[32m━━━━━━━━━━━━━━━━━━━━\u001b[0m\u001b[37m\u001b[0m \u001b[1m60s\u001b[0m 115ms/step - accuracy: 0.9913 - loss: 0.0328 - val_accuracy: 0.9946 - val_loss: 0.0171 - learning_rate: 2.5000e-04\n",
      "Epoch 27/50\n",
      "\u001b[1m525/525\u001b[0m \u001b[32m━━━━━━━━━━━━━━━━━━━━\u001b[0m\u001b[37m\u001b[0m \u001b[1m0s\u001b[0m 108ms/step - accuracy: 0.9908 - loss: 0.0316\n",
      "Epoch 27: val_accuracy improved from 0.99571 to 0.99583, saving model to best_model.keras\n",
      "\u001b[1m525/525\u001b[0m \u001b[32m━━━━━━━━━━━━━━━━━━━━\u001b[0m\u001b[37m\u001b[0m \u001b[1m60s\u001b[0m 115ms/step - accuracy: 0.9908 - loss: 0.0316 - val_accuracy: 0.9958 - val_loss: 0.0149 - learning_rate: 1.2500e-04\n",
      "Epoch 28/50\n",
      "\u001b[1m525/525\u001b[0m \u001b[32m━━━━━━━━━━━━━━━━━━━━\u001b[0m\u001b[37m\u001b[0m \u001b[1m0s\u001b[0m 106ms/step - accuracy: 0.9915 - loss: 0.0261\n",
      "Epoch 28: val_accuracy did not improve from 0.99583\n",
      "\u001b[1m525/525\u001b[0m \u001b[32m━━━━━━━━━━━━━━━━━━━━\u001b[0m\u001b[37m\u001b[0m \u001b[1m59s\u001b[0m 113ms/step - accuracy: 0.9915 - loss: 0.0261 - val_accuracy: 0.9958 - val_loss: 0.0149 - learning_rate: 1.2500e-04\n",
      "Epoch 29/50\n",
      "\u001b[1m525/525\u001b[0m \u001b[32m━━━━━━━━━━━━━━━━━━━━\u001b[0m\u001b[37m\u001b[0m \u001b[1m0s\u001b[0m 107ms/step - accuracy: 0.9912 - loss: 0.0293\n",
      "Epoch 29: ReduceLROnPlateau reducing learning rate to 6.25000029685907e-05.\n",
      "\n",
      "Epoch 29: val_accuracy did not improve from 0.99583\n",
      "\u001b[1m525/525\u001b[0m \u001b[32m━━━━━━━━━━━━━━━━━━━━\u001b[0m\u001b[37m\u001b[0m \u001b[1m60s\u001b[0m 115ms/step - accuracy: 0.9912 - loss: 0.0293 - val_accuracy: 0.9955 - val_loss: 0.0155 - learning_rate: 1.2500e-04\n",
      "Epoch 30/50\n",
      "\u001b[1m525/525\u001b[0m \u001b[32m━━━━━━━━━━━━━━━━━━━━\u001b[0m\u001b[37m\u001b[0m \u001b[1m0s\u001b[0m 108ms/step - accuracy: 0.9906 - loss: 0.0300\n",
      "Epoch 30: val_accuracy did not improve from 0.99583\n",
      "\u001b[1m525/525\u001b[0m \u001b[32m━━━━━━━━━━━━━━━━━━━━\u001b[0m\u001b[37m\u001b[0m \u001b[1m62s\u001b[0m 118ms/step - accuracy: 0.9906 - loss: 0.0300 - val_accuracy: 0.9957 - val_loss: 0.0148 - learning_rate: 6.2500e-05\n",
      "Epoch 31/50\n",
      "\u001b[1m525/525\u001b[0m \u001b[32m━━━━━━━━━━━━━━━━━━━━\u001b[0m\u001b[37m\u001b[0m \u001b[1m0s\u001b[0m 109ms/step - accuracy: 0.9919 - loss: 0.0269\n",
      "Epoch 31: val_accuracy did not improve from 0.99583\n",
      "\u001b[1m525/525\u001b[0m \u001b[32m━━━━━━━━━━━━━━━━━━━━\u001b[0m\u001b[37m\u001b[0m \u001b[1m81s\u001b[0m 116ms/step - accuracy: 0.9919 - loss: 0.0269 - val_accuracy: 0.9957 - val_loss: 0.0150 - learning_rate: 6.2500e-05\n",
      "Epoch 32/50\n",
      "\u001b[1m525/525\u001b[0m \u001b[32m━━━━━━━━━━━━━━━━━━━━\u001b[0m\u001b[37m\u001b[0m \u001b[1m0s\u001b[0m 109ms/step - accuracy: 0.9917 - loss: 0.0275\n",
      "Epoch 32: ReduceLROnPlateau reducing learning rate to 3.125000148429535e-05.\n",
      "\n",
      "Epoch 32: val_accuracy did not improve from 0.99583\n",
      "\u001b[1m525/525\u001b[0m \u001b[32m━━━━━━━━━━━━━━━━━━━━\u001b[0m\u001b[37m\u001b[0m \u001b[1m62s\u001b[0m 118ms/step - accuracy: 0.9917 - loss: 0.0275 - val_accuracy: 0.9956 - val_loss: 0.0152 - learning_rate: 6.2500e-05\n",
      "✅ Best model loaded from 'best_model.h5'\n"
     ]
    }
   ],
   "source": [
    "from tensorflow.keras.models import Sequential\n",
    "from tensorflow.keras.layers import Conv2D, MaxPooling2D, Dense, Flatten, Dropout, BatchNormalization\n",
    "from tensorflow.keras.preprocessing.image import ImageDataGenerator\n",
    "from tensorflow.keras.callbacks import EarlyStopping, ReduceLROnPlateau, ModelCheckpoint\n",
    "\n",
    "\n",
    "# Data Augmentation\n",
    "datagen = ImageDataGenerator(\n",
    "    rotation_range=10,     # rotate images by 10 degrees\n",
    "    zoom_range=0.1,        # zoom in by 10%\n",
    "    width_shift_range=0.1, # shift horizontally by 10%\n",
    "    height_shift_range=0.1 # shift vertically by 10%\n",
    ")\n",
    "datagen.fit(X_train_cnn)\n",
    "\n",
    "# CNN Model\n",
    "model_cnn = Sequential([\n",
    "    Conv2D(32, (3,3), activation='relu', input_shape=(28,28,1)),\n",
    "    BatchNormalization(),\n",
    "    Conv2D(32, (3,3), activation='relu'),\n",
    "    BatchNormalization(),\n",
    "    MaxPooling2D(2,2),\n",
    "    Dropout(0.25),\n",
    "\n",
    "    Conv2D(64, (3,3), activation='relu'),\n",
    "    BatchNormalization(),\n",
    "    Conv2D(64, (3,3), activation='relu'),\n",
    "    BatchNormalization(),\n",
    "    MaxPooling2D(2,2),\n",
    "    Dropout(0.25),\n",
    "\n",
    "    Flatten(),\n",
    "    Dense(256, activation='relu'),\n",
    "    Dropout(0.5),\n",
    "    Dense(10, activation='softmax')\n",
    "])\n",
    "\n",
    "# Compile\n",
    "model_cnn.compile(optimizer='adam', loss='sparse_categorical_crossentropy', metrics=['accuracy'])\n",
    "\n",
    "# Callbacks\n",
    "early_stop = EarlyStopping(monitor='val_accuracy', patience=5, restore_best_weights=True)\n",
    "lr_reduce = ReduceLROnPlateau(monitor='val_loss', patience=3, factor=0.5, verbose=1)\n",
    "checkpoint = ModelCheckpoint('best_model.keras', monitor='val_accuracy', save_best_only=True, verbose=1)\n",
    "\n",
    "# Train with Augmentation\n",
    "history = model_cnn.fit(datagen.flow(X_train_cnn, y_train, batch_size=64),\n",
    "                        epochs=50,\n",
    "                        validation_data=(X_val_cnn, y_val),\n",
    "                        callbacks=[early_stop, lr_reduce, checkpoint])   # <== ADD checkpoint here\n",
    "\n",
    "# Load best model\n",
    "from tensorflow.keras.models import load_model\n",
    "model_cnn = load_model('best_model.keras')\n",
    "print(\"✅ Best model loaded from 'best_model.h5'\")"
   ]
  },
  {
   "cell_type": "code",
   "execution_count": 21,
   "id": "a7f9f31e",
   "metadata": {
    "execution": {
     "iopub.execute_input": "2025-04-29T19:08:52.900577Z",
     "iopub.status.busy": "2025-04-29T19:08:52.900162Z",
     "iopub.status.idle": "2025-04-29T19:08:53.357844Z",
     "shell.execute_reply": "2025-04-29T19:08:53.356692Z"
    },
    "papermill": {
     "duration": 1.560438,
     "end_time": "2025-04-29T19:08:53.359682",
     "exception": false,
     "start_time": "2025-04-29T19:08:51.799244",
     "status": "completed"
    },
    "tags": []
   },
   "outputs": [
    {
     "data": {
      "image/png": "[encoded data removed]",
      "text/plain": [
       "<Figure size 1200x500 with 2 Axes>"
      ]
     },
     "metadata": {},
     "output_type": "display_data"
    }
   ],
   "source": [
    "import matplotlib.pyplot as plt\n",
    "\n",
    "# Plot accuracy\n",
    "plt.figure(figsize=(12, 5))\n",
    "\n",
    "# Accuracy plot\n",
    "plt.subplot(1, 2, 1)\n",
    "plt.plot(history.history['accuracy'], label='Train Accuracy')\n",
    "plt.plot(history.history['val_accuracy'], label='Validation Accuracy')\n",
    "plt.title('Model Accuracy')\n",
    "plt.xlabel('Epoch')\n",
    "plt.ylabel('Accuracy')\n",
    "plt.legend()\n",
    "plt.grid(True)\n",
    "\n",
    "# Loss plot\n",
    "plt.subplot(1, 2, 2)\n",
    "plt.plot(history.history['loss'], label='Train Loss')\n",
    "plt.plot(history.history['val_loss'], label='Validation Loss')\n",
    "plt.title('Model Loss')\n",
    "plt.xlabel('Epoch')\n",
    "plt.ylabel('Loss')\n",
    "plt.legend()\n",
    "plt.grid(True)\n",
    "\n",
    "plt.tight_layout()\n",
    "plt.show()\n"
   ]
  },
  {
   "cell_type": "markdown",
   "id": "af1f43d3",
   "metadata": {
    "papermill": {
     "duration": 1.071643,
     "end_time": "2025-04-29T19:08:55.438128",
     "exception": false,
     "start_time": "2025-04-29T19:08:54.366485",
     "status": "completed"
    },
    "tags": []
   },
   "source": [
    "# **Step 7: Prepare Submission File**"
   ]
  },
  {
   "cell_type": "code",
   "execution_count": 22,
   "id": "d9e46e7c",
   "metadata": {
    "execution": {
     "iopub.execute_input": "2025-04-29T19:08:57.543156Z",
     "iopub.status.busy": "2025-04-29T19:08:57.542218Z",
     "iopub.status.idle": "2025-04-29T19:09:13.735912Z",
     "shell.execute_reply": "2025-04-29T19:09:13.734699Z"
    },
    "papermill": {
     "duration": 17.225784,
     "end_time": "2025-04-29T19:09:13.737906",
     "exception": false,
     "start_time": "2025-04-29T19:08:56.512122",
     "status": "completed"
    },
    "tags": []
   },
   "outputs": [
    {
     "name": "stdout",
     "output_type": "stream",
     "text": [
      "\u001b[1m875/875\u001b[0m \u001b[32m━━━━━━━━━━━━━━━━━━━━\u001b[0m\u001b[37m\u001b[0m \u001b[1m14s\u001b[0m 16ms/step\n",
      "✅ Submission file 'submission.csv' created successfully!\n"
     ]
    }
   ],
   "source": [
    "# 8. Load test data\n",
    "test_data = pd.read_csv('/kaggle/input/digit-recognizer/test.csv')\n",
    "\n",
    "# Preprocess test data\n",
    "X_test = test_data.values.reshape(-1, 28, 28, 1) / 255.0\n",
    "\n",
    "# 9. Predict\n",
    "predictions = model_cnn.predict(X_test)\n",
    "predictions = np.argmax(predictions, axis=1)\n",
    "\n",
    "# 10. Create submission file\n",
    "submission = pd.DataFrame({\n",
    "    'ImageId': np.arange(1, len(predictions) + 1),\n",
    "    'Label': predictions\n",
    "})\n",
    "\n",
    "submission.to_csv('submission.csv', index=False)\n",
    "print(\"✅ Submission file 'submission.csv' created successfully!\")\n"
   ]
  },
  {
   "cell_type": "code",
   "execution_count": 23,
   "id": "af6ce0e0",
   "metadata": {
    "execution": {
     "iopub.execute_input": "2025-04-29T19:09:15.939507Z",
     "iopub.status.busy": "2025-04-29T19:09:15.939110Z",
     "iopub.status.idle": "2025-04-29T19:30:19.377956Z",
     "shell.execute_reply": "2025-04-29T19:30:19.376701Z"
    },
    "papermill": {
     "duration": 1264.539023,
     "end_time": "2025-04-29T19:30:19.379790",
     "exception": false,
     "start_time": "2025-04-29T19:09:14.840767",
     "status": "completed"
    },
    "tags": []
   },
   "outputs": [
    {
     "name": "stderr",
     "output_type": "stream",
     "text": [
      "/usr/local/lib/python3.11/dist-packages/keras/src/layers/convolutional/base_conv.py:107: UserWarning: Do not pass an `input_shape`/`input_dim` argument to a layer. When using Sequential models, prefer using an `Input(shape)` object as the first layer in the model instead.\n",
      "  super().__init__(activity_regularizer=activity_regularizer, **kwargs)\n"
     ]
    },
    {
     "name": "stdout",
     "output_type": "stream",
     "text": [
      "Epoch 1/50\n"
     ]
    },
    {
     "name": "stderr",
     "output_type": "stream",
     "text": [
      "/usr/local/lib/python3.11/dist-packages/keras/src/trainers/data_adapters/py_dataset_adapter.py:122: UserWarning: Your `PyDataset` class should call `super().__init__(**kwargs)` in its constructor. `**kwargs` can include `workers`, `use_multiprocessing`, `max_queue_size`. Do not pass these arguments to `fit()`, as they will be ignored.\n",
      "  self._warn_if_super_not_called()\n"
     ]
    },
    {
     "name": "stdout",
     "output_type": "stream",
     "text": [
      "\u001b[1m525/525\u001b[0m \u001b[32m━━━━━━━━━━━━━━━━━━━━\u001b[0m\u001b[37m\u001b[0m \u001b[1m0s\u001b[0m 107ms/step - accuracy: 0.7767 - loss: 0.7995\n",
      "Epoch 1: val_accuracy improved from -inf to 0.62964, saving model to best_model.keras\n",
      "\u001b[1m525/525\u001b[0m \u001b[32m━━━━━━━━━━━━━━━━━━━━\u001b[0m\u001b[37m\u001b[0m \u001b[1m67s\u001b[0m 116ms/step - accuracy: 0.7769 - loss: 0.7987 - val_accuracy: 0.6296 - val_loss: 1.1380 - learning_rate: 0.0010\n",
      "Epoch 2/50\n",
      "\u001b[1m525/525\u001b[0m \u001b[32m━━━━━━━━━━━━━━━━━━━━\u001b[0m\u001b[37m\u001b[0m \u001b[1m0s\u001b[0m 105ms/step - accuracy: 0.9571 - loss: 0.1403\n",
      "Epoch 2: val_accuracy improved from 0.62964 to 0.98167, saving model to best_model.keras\n",
      "\u001b[1m525/525\u001b[0m \u001b[32m━━━━━━━━━━━━━━━━━━━━\u001b[0m\u001b[37m\u001b[0m \u001b[1m59s\u001b[0m 113ms/step - accuracy: 0.9571 - loss: 0.1403 - val_accuracy: 0.9817 - val_loss: 0.0559 - learning_rate: 0.0010\n",
      "Epoch 3/50\n",
      "\u001b[1m525/525\u001b[0m \u001b[32m━━━━━━━━━━━━━━━━━━━━\u001b[0m\u001b[37m\u001b[0m \u001b[1m0s\u001b[0m 107ms/step - accuracy: 0.9659 - loss: 0.1129\n",
      "Epoch 3: val_accuracy improved from 0.98167 to 0.98571, saving model to best_model.keras\n",
      "\u001b[1m525/525\u001b[0m \u001b[32m━━━━━━━━━━━━━━━━━━━━\u001b[0m\u001b[37m\u001b[0m \u001b[1m60s\u001b[0m 115ms/step - accuracy: 0.9659 - loss: 0.1129 - val_accuracy: 0.9857 - val_loss: 0.0477 - learning_rate: 0.0010\n",
      "Epoch 4/50\n",
      "\u001b[1m525/525\u001b[0m \u001b[32m━━━━━━━━━━━━━━━━━━━━\u001b[0m\u001b[37m\u001b[0m \u001b[1m0s\u001b[0m 109ms/step - accuracy: 0.9748 - loss: 0.0847\n",
      "Epoch 4: val_accuracy improved from 0.98571 to 0.98821, saving model to best_model.keras\n",
      "\u001b[1m525/525\u001b[0m \u001b[32m━━━━━━━━━━━━━━━━━━━━\u001b[0m\u001b[37m\u001b[0m \u001b[1m61s\u001b[0m 116ms/step - accuracy: 0.9748 - loss: 0.0847 - val_accuracy: 0.9882 - val_loss: 0.0361 - learning_rate: 0.0010\n",
      "Epoch 5/50\n",
      "\u001b[1m525/525\u001b[0m \u001b[32m━━━━━━━━━━━━━━━━━━━━\u001b[0m\u001b[37m\u001b[0m \u001b[1m0s\u001b[0m 109ms/step - accuracy: 0.9766 - loss: 0.0745\n",
      "Epoch 5: val_accuracy did not improve from 0.98821\n",
      "\u001b[1m525/525\u001b[0m \u001b[32m━━━━━━━━━━━━━━━━━━━━\u001b[0m\u001b[37m\u001b[0m \u001b[1m62s\u001b[0m 119ms/step - accuracy: 0.9766 - loss: 0.0746 - val_accuracy: 0.9861 - val_loss: 0.0423 - learning_rate: 0.0010\n",
      "Epoch 6/50\n",
      "\u001b[1m525/525\u001b[0m \u001b[32m━━━━━━━━━━━━━━━━━━━━\u001b[0m\u001b[37m\u001b[0m \u001b[1m0s\u001b[0m 111ms/step - accuracy: 0.9768 - loss: 0.0802\n",
      "Epoch 6: val_accuracy did not improve from 0.98821\n",
      "\u001b[1m525/525\u001b[0m \u001b[32m━━━━━━━━━━━━━━━━━━━━\u001b[0m\u001b[37m\u001b[0m \u001b[1m62s\u001b[0m 117ms/step - accuracy: 0.9768 - loss: 0.0802 - val_accuracy: 0.9873 - val_loss: 0.0370 - learning_rate: 0.0010\n",
      "Epoch 7/50\n",
      "\u001b[1m525/525\u001b[0m \u001b[32m━━━━━━━━━━━━━━━━━━━━\u001b[0m\u001b[37m\u001b[0m \u001b[1m0s\u001b[0m 112ms/step - accuracy: 0.9796 - loss: 0.0693\n",
      "Epoch 7: ReduceLROnPlateau reducing learning rate to 0.0005000000237487257.\n",
      "\n",
      "Epoch 7: val_accuracy did not improve from 0.98821\n",
      "\u001b[1m525/525\u001b[0m \u001b[32m━━━━━━━━━━━━━━━━━━━━\u001b[0m\u001b[37m\u001b[0m \u001b[1m62s\u001b[0m 119ms/step - accuracy: 0.9796 - loss: 0.0693 - val_accuracy: 0.9711 - val_loss: 0.1019 - learning_rate: 0.0010\n",
      "Epoch 8/50\n",
      "\u001b[1m525/525\u001b[0m \u001b[32m━━━━━━━━━━━━━━━━━━━━\u001b[0m\u001b[37m\u001b[0m \u001b[1m0s\u001b[0m 114ms/step - accuracy: 0.9856 - loss: 0.0508\n",
      "Epoch 8: val_accuracy improved from 0.98821 to 0.99381, saving model to best_model.keras\n",
      "\u001b[1m525/525\u001b[0m \u001b[32m━━━━━━━━━━━━━━━━━━━━\u001b[0m\u001b[37m\u001b[0m \u001b[1m63s\u001b[0m 121ms/step - accuracy: 0.9856 - loss: 0.0508 - val_accuracy: 0.9938 - val_loss: 0.0176 - learning_rate: 5.0000e-04\n",
      "Epoch 9/50\n",
      "\u001b[1m525/525\u001b[0m \u001b[32m━━━━━━━━━━━━━━━━━━━━\u001b[0m\u001b[37m\u001b[0m \u001b[1m0s\u001b[0m 110ms/step - accuracy: 0.9888 - loss: 0.0381\n",
      "Epoch 9: val_accuracy did not improve from 0.99381\n",
      "\u001b[1m525/525\u001b[0m \u001b[32m━━━━━━━━━━━━━━━━━━━━\u001b[0m\u001b[37m\u001b[0m \u001b[1m61s\u001b[0m 116ms/step - accuracy: 0.9888 - loss: 0.0381 - val_accuracy: 0.9923 - val_loss: 0.0243 - learning_rate: 5.0000e-04\n",
      "Epoch 10/50\n",
      "\u001b[1m525/525\u001b[0m \u001b[32m━━━━━━━━━━━━━━━━━━━━\u001b[0m\u001b[37m\u001b[0m \u001b[1m0s\u001b[0m 107ms/step - accuracy: 0.9887 - loss: 0.0382\n",
      "Epoch 10: val_accuracy did not improve from 0.99381\n",
      "\u001b[1m525/525\u001b[0m \u001b[32m━━━━━━━━━━━━━━━━━━━━\u001b[0m\u001b[37m\u001b[0m \u001b[1m60s\u001b[0m 114ms/step - accuracy: 0.9887 - loss: 0.0382 - val_accuracy: 0.9930 - val_loss: 0.0207 - learning_rate: 5.0000e-04\n",
      "Epoch 11/50\n",
      "\u001b[1m525/525\u001b[0m \u001b[32m━━━━━━━━━━━━━━━━━━━━\u001b[0m\u001b[37m\u001b[0m \u001b[1m0s\u001b[0m 107ms/step - accuracy: 0.9878 - loss: 0.0423\n",
      "Epoch 11: ReduceLROnPlateau reducing learning rate to 0.0002500000118743628.\n",
      "\n",
      "Epoch 11: val_accuracy did not improve from 0.99381\n",
      "\u001b[1m525/525\u001b[0m \u001b[32m━━━━━━━━━━━━━━━━━━━━\u001b[0m\u001b[37m\u001b[0m \u001b[1m60s\u001b[0m 114ms/step - accuracy: 0.9878 - loss: 0.0423 - val_accuracy: 0.9931 - val_loss: 0.0188 - learning_rate: 5.0000e-04\n",
      "Epoch 12/50\n",
      "\u001b[1m525/525\u001b[0m \u001b[32m━━━━━━━━━━━━━━━━━━━━\u001b[0m\u001b[37m\u001b[0m \u001b[1m0s\u001b[0m 107ms/step - accuracy: 0.9889 - loss: 0.0353\n",
      "Epoch 12: val_accuracy improved from 0.99381 to 0.99452, saving model to best_model.keras\n",
      "\u001b[1m525/525\u001b[0m \u001b[32m━━━━━━━━━━━━━━━━━━━━\u001b[0m\u001b[37m\u001b[0m \u001b[1m60s\u001b[0m 114ms/step - accuracy: 0.9889 - loss: 0.0353 - val_accuracy: 0.9945 - val_loss: 0.0156 - learning_rate: 2.5000e-04\n",
      "Epoch 13/50\n",
      "\u001b[1m525/525\u001b[0m \u001b[32m━━━━━━━━━━━━━━━━━━━━\u001b[0m\u001b[37m\u001b[0m \u001b[1m0s\u001b[0m 108ms/step - accuracy: 0.9906 - loss: 0.0312\n",
      "Epoch 13: val_accuracy improved from 0.99452 to 0.99464, saving model to best_model.keras\n",
      "\u001b[1m525/525\u001b[0m \u001b[32m━━━━━━━━━━━━━━━━━━━━\u001b[0m\u001b[37m\u001b[0m \u001b[1m60s\u001b[0m 115ms/step - accuracy: 0.9906 - loss: 0.0312 - val_accuracy: 0.9946 - val_loss: 0.0174 - learning_rate: 2.5000e-04\n",
      "Epoch 14/50\n",
      "\u001b[1m525/525\u001b[0m \u001b[32m━━━━━━━━━━━━━━━━━━━━\u001b[0m\u001b[37m\u001b[0m \u001b[1m0s\u001b[0m 108ms/step - accuracy: 0.9908 - loss: 0.0299\n",
      "Epoch 14: val_accuracy did not improve from 0.99464\n",
      "\u001b[1m525/525\u001b[0m \u001b[32m━━━━━━━━━━━━━━━━━━━━\u001b[0m\u001b[37m\u001b[0m \u001b[1m60s\u001b[0m 114ms/step - accuracy: 0.9908 - loss: 0.0299 - val_accuracy: 0.9946 - val_loss: 0.0206 - learning_rate: 2.5000e-04\n",
      "Epoch 15/50\n",
      "\u001b[1m525/525\u001b[0m \u001b[32m━━━━━━━━━━━━━━━━━━━━\u001b[0m\u001b[37m\u001b[0m \u001b[1m0s\u001b[0m 108ms/step - accuracy: 0.9908 - loss: 0.0291\n",
      "Epoch 15: val_accuracy improved from 0.99464 to 0.99500, saving model to best_model.keras\n",
      "\u001b[1m525/525\u001b[0m \u001b[32m━━━━━━━━━━━━━━━━━━━━\u001b[0m\u001b[37m\u001b[0m \u001b[1m60s\u001b[0m 115ms/step - accuracy: 0.9908 - loss: 0.0291 - val_accuracy: 0.9950 - val_loss: 0.0144 - learning_rate: 2.5000e-04\n",
      "Epoch 16/50\n",
      "\u001b[1m525/525\u001b[0m \u001b[32m━━━━━━━━━━━━━━━━━━━━\u001b[0m\u001b[37m\u001b[0m \u001b[1m0s\u001b[0m 110ms/step - accuracy: 0.9930 - loss: 0.0238\n",
      "Epoch 16: val_accuracy did not improve from 0.99500\n",
      "\u001b[1m525/525\u001b[0m \u001b[32m━━━━━━━━━━━━━━━━━━━━\u001b[0m\u001b[37m\u001b[0m \u001b[1m61s\u001b[0m 116ms/step - accuracy: 0.9930 - loss: 0.0238 - val_accuracy: 0.9945 - val_loss: 0.0152 - learning_rate: 2.5000e-04\n",
      "Epoch 17/50\n",
      "\u001b[1m525/525\u001b[0m \u001b[32m━━━━━━━━━━━━━━━━━━━━\u001b[0m\u001b[37m\u001b[0m \u001b[1m0s\u001b[0m 108ms/step - accuracy: 0.9922 - loss: 0.0265\n",
      "Epoch 17: val_accuracy did not improve from 0.99500\n",
      "\u001b[1m525/525\u001b[0m \u001b[32m━━━━━━━━━━━━━━━━━━━━\u001b[0m\u001b[37m\u001b[0m \u001b[1m61s\u001b[0m 116ms/step - accuracy: 0.9922 - loss: 0.0265 - val_accuracy: 0.9949 - val_loss: 0.0145 - learning_rate: 2.5000e-04\n",
      "Epoch 18/50\n",
      "\u001b[1m525/525\u001b[0m \u001b[32m━━━━━━━━━━━━━━━━━━━━\u001b[0m\u001b[37m\u001b[0m \u001b[1m0s\u001b[0m 107ms/step - accuracy: 0.9918 - loss: 0.0265\n",
      "Epoch 18: val_accuracy did not improve from 0.99500\n",
      "\u001b[1m525/525\u001b[0m \u001b[32m━━━━━━━━━━━━━━━━━━━━\u001b[0m\u001b[37m\u001b[0m \u001b[1m60s\u001b[0m 114ms/step - accuracy: 0.9918 - loss: 0.0265 - val_accuracy: 0.9945 - val_loss: 0.0142 - learning_rate: 2.5000e-04\n",
      "Epoch 19/50\n",
      "\u001b[1m525/525\u001b[0m \u001b[32m━━━━━━━━━━━━━━━━━━━━\u001b[0m\u001b[37m\u001b[0m \u001b[1m0s\u001b[0m 109ms/step - accuracy: 0.9931 - loss: 0.0227\n",
      "Epoch 19: val_accuracy did not improve from 0.99500\n",
      "\u001b[1m525/525\u001b[0m \u001b[32m━━━━━━━━━━━━━━━━━━━━\u001b[0m\u001b[37m\u001b[0m \u001b[1m84s\u001b[0m 118ms/step - accuracy: 0.9931 - loss: 0.0227 - val_accuracy: 0.9944 - val_loss: 0.0157 - learning_rate: 2.5000e-04\n",
      "Epoch 20/50\n",
      "\u001b[1m525/525\u001b[0m \u001b[32m━━━━━━━━━━━━━━━━━━━━\u001b[0m\u001b[37m\u001b[0m \u001b[1m0s\u001b[0m 108ms/step - accuracy: 0.9932 - loss: 0.0234\n",
      "Epoch 20: val_accuracy did not improve from 0.99500\n",
      "\u001b[1m525/525\u001b[0m \u001b[32m━━━━━━━━━━━━━━━━━━━━\u001b[0m\u001b[37m\u001b[0m \u001b[1m60s\u001b[0m 115ms/step - accuracy: 0.9932 - loss: 0.0234 - val_accuracy: 0.9933 - val_loss: 0.0180 - learning_rate: 2.5000e-04\n",
      "Epoch 20: early stopping\n",
      "Restoring model weights from the end of the best epoch: 15.\n",
      "✅ Best model loaded from 'best_model.keras'\n",
      "\u001b[1m875/875\u001b[0m \u001b[32m━━━━━━━━━━━━━━━━━━━━\u001b[0m\u001b[37m\u001b[0m \u001b[1m13s\u001b[0m 15ms/step\n",
      "✅ Submission file 'submission.csv' created successfully!\n"
     ]
    }
   ],
   "source": [
    "from tensorflow.keras.models import Sequential\n",
    "from tensorflow.keras.layers import Conv2D, MaxPooling2D, Dense, Flatten, Dropout, BatchNormalization\n",
    "from tensorflow.keras.preprocessing.image import ImageDataGenerator\n",
    "from tensorflow.keras.callbacks import EarlyStopping, ReduceLROnPlateau, ModelCheckpoint\n",
    "from tensorflow.keras.models import load_model\n",
    "\n",
    "# 1. Data Augmentation (✅ smaller changes!)\n",
    "datagen = ImageDataGenerator(\n",
    "    rotation_range=5,       # smaller rotation\n",
    "    zoom_range=0.05,        # smaller zoom\n",
    "    width_shift_range=0.05, # smaller horizontal shift\n",
    "    height_shift_range=0.05 # smaller vertical shift\n",
    ")\n",
    "datagen.fit(X_train_cnn)\n",
    "\n",
    "# 2. CNN Model\n",
    "model_cnn = Sequential([\n",
    "    Conv2D(32, (3,3), activation='relu', input_shape=(28,28,1)),\n",
    "    BatchNormalization(),\n",
    "    Conv2D(32, (3,3), activation='relu'),\n",
    "    BatchNormalization(),\n",
    "    MaxPooling2D(2,2),\n",
    "    Dropout(0.25),\n",
    "\n",
    "    Conv2D(64, (3,3), activation='relu'),\n",
    "    BatchNormalization(),\n",
    "    Conv2D(64, (3,3), activation='relu'),\n",
    "    BatchNormalization(),\n",
    "    MaxPooling2D(2,2),\n",
    "    Dropout(0.25),\n",
    "\n",
    "    Flatten(),\n",
    "    Dense(256, activation='relu'),\n",
    "    Dropout(0.5),\n",
    "    Dense(10, activation='softmax')\n",
    "])\n",
    "\n",
    "# 3. Compile\n",
    "model_cnn.compile(optimizer='adam', loss='sparse_categorical_crossentropy', metrics=['accuracy'])\n",
    "\n",
    "# 4. Callbacks\n",
    "early_stop = EarlyStopping(monitor='val_accuracy', patience=5, restore_best_weights=True, verbose=1)\n",
    "lr_reduce = ReduceLROnPlateau(monitor='val_loss', patience=3, factor=0.5, verbose=1)\n",
    "checkpoint = ModelCheckpoint('best_model.keras', monitor='val_accuracy', save_best_only=True, verbose=1)\n",
    "\n",
    "# 5. Train\n",
    "history = model_cnn.fit(\n",
    "    datagen.flow(X_train_cnn, y_train, batch_size=64),\n",
    "    epochs=50,\n",
    "    validation_data=(X_val_cnn, y_val),\n",
    "    callbacks=[early_stop, lr_reduce, checkpoint]\n",
    ")\n",
    "\n",
    "# 6. Load the best model\n",
    "model_cnn = load_model('best_model.keras')\n",
    "print(\"✅ Best model loaded from 'best_model.keras'\")\n",
    "\n",
    "# 7. Predict Test Data\n",
    "test_data = pd.read_csv('/kaggle/input/digit-recognizer/test.csv')\n",
    "X_test = test_data.values.reshape(-1, 28, 28, 1) / 255.0\n",
    "\n",
    "predictions = model_cnn.predict(X_test)\n",
    "predictions = np.argmax(predictions, axis=1)\n",
    "\n",
    "# 8. Create Submission\n",
    "submission = pd.DataFrame({\n",
    "    'ImageId': np.arange(1, len(predictions) + 1),\n",
    "    'Label': predictions\n",
    "})\n",
    "\n",
    "submission.to_csv('submission.csv', index=False)\n",
    "print(\"✅ Submission file 'submission.csv' created successfully!\")\n"
   ]
  },
  {
   "cell_type": "code",
   "execution_count": null,
   "id": "ef30241f",
   "metadata": {
    "papermill": {
     "duration": 1.652409,
     "end_time": "2025-04-29T19:30:22.727834",
     "exception": false,
     "start_time": "2025-04-29T19:30:21.075425",
     "status": "completed"
    },
    "tags": []
   },
   "outputs": [],
   "source": []
  }
 ],
 "metadata": {
  "kaggle": {
   "accelerator": "none",
   "dataSources": [
    {
     "databundleVersionId": 861823,
     "sourceId": 3004,
     "sourceType": "competition"
    }
   ],
   "dockerImageVersionId": 31012,
   "isGpuEnabled": false,
   "isInternetEnabled": true,
   "language": "python",
   "sourceType": "notebook"
  },
  "kernelspec": {
   "display_name": "Python 3",
   "language": "python",
   "name": "python3"
  },
  "language_info": {
   "codemirror_mode": {
    "name": "ipython",
    "version": 3
   },
   "file_extension": ".py",
   "mimetype": "text/x-python",
   "name": "python",
   "nbconvert_exporter": "python",
   "pygments_lexer": "ipython3",
   "version": "3.11.11"
  },
  "papermill": {
   "default_parameters": {},
   "duration": 3728.372479,
   "end_time": "2025-04-29T19:30:27.688616",
   "environment_variables": {},
   "exception": null,
   "input_path": "__notebook__.ipynb",
   "output_path": "__notebook__.ipynb",
   "parameters": {},
   "start_time": "2025-04-29T18:28:19.316137",
   "version": "2.6.0"
  }
 },
 "nbformat": 4,
 "nbformat_minor": 5
}
